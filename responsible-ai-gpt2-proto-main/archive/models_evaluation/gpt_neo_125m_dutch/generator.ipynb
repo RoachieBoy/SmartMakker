{
 "cells": [
  {
   "cell_type": "code",
   "execution_count": 1,
   "metadata": {
    "ExecuteTime": {
     "start_time": "2023-04-11T22:33:51.836449Z",
     "end_time": "2023-04-11T22:34:04.568869Z"
    }
   },
   "outputs": [],
   "source": [
    "import transformers\n",
    "import torch\n",
    "\n",
    "from aitextgen import aitextgen\n",
    "\n",
    "model_folder = \"output\"\n",
    "model_source = \"yhavinga/gpt-neo-125M-dutch\""
   ]
  },
  {
   "cell_type": "code",
   "execution_count": 2,
   "outputs": [],
   "source": [
    "gpu_available = torch.cuda.is_available()"
   ],
   "metadata": {
    "collapsed": false,
    "ExecuteTime": {
     "start_time": "2023-04-11T22:34:12.649747Z",
     "end_time": "2023-04-11T22:34:12.691757Z"
    }
   }
  },
  {
   "cell_type": "code",
   "execution_count": 3,
   "outputs": [
    {
     "name": "stderr",
     "output_type": "stream",
     "text": [
      "Generate config GenerationConfig {\n",
      "  \"_from_model_config\": true,\n",
      "  \"bos_token_id\": 50256,\n",
      "  \"eos_token_id\": 50256,\n",
      "  \"transformers_version\": \"4.27.4\"\n",
      "}\n",
      "\n",
      "loading configuration file output\\generation_config.json\n",
      "Generate config GenerationConfig {\n",
      "  \"_from_model_config\": true,\n",
      "  \"bos_token_id\": 50256,\n",
      "  \"eos_token_id\": 50256,\n",
      "  \"transformers_version\": \"4.27.4\"\n",
      "}\n",
      "\n",
      "loading file vocab.json from cache at C:\\Users\\winan/.cache\\huggingface\\hub\\models--yhavinga--gpt-neo-125M-dutch\\snapshots\\f7ba70ce7b62fbd1c298fd9012cf7b3b9bf0fd5d\\vocab.json\n",
      "loading file merges.txt from cache at C:\\Users\\winan/.cache\\huggingface\\hub\\models--yhavinga--gpt-neo-125M-dutch\\snapshots\\f7ba70ce7b62fbd1c298fd9012cf7b3b9bf0fd5d\\merges.txt\n",
      "loading file tokenizer.json from cache at C:\\Users\\winan/.cache\\huggingface\\hub\\models--yhavinga--gpt-neo-125M-dutch\\snapshots\\f7ba70ce7b62fbd1c298fd9012cf7b3b9bf0fd5d\\tokenizer.json\n",
      "loading file added_tokens.json from cache at C:\\Users\\winan/.cache\\huggingface\\hub\\models--yhavinga--gpt-neo-125M-dutch\\snapshots\\f7ba70ce7b62fbd1c298fd9012cf7b3b9bf0fd5d\\added_tokens.json\n",
      "loading file special_tokens_map.json from cache at C:\\Users\\winan/.cache\\huggingface\\hub\\models--yhavinga--gpt-neo-125M-dutch\\snapshots\\f7ba70ce7b62fbd1c298fd9012cf7b3b9bf0fd5d\\special_tokens_map.json\n",
      "loading file tokenizer_config.json from cache at C:\\Users\\winan/.cache\\huggingface\\hub\\models--yhavinga--gpt-neo-125M-dutch\\snapshots\\f7ba70ce7b62fbd1c298fd9012cf7b3b9bf0fd5d\\tokenizer_config.json\n"
     ]
    }
   ],
   "source": [
    "ai = aitextgen(model_folder=model_folder, to_gpu=gpu_available)\n",
    "\n",
    "tokenizer = transformers.AutoTokenizer.from_pretrained(model_source)\n",
    "\n",
    "ai.tokenizer = tokenizer"
   ],
   "metadata": {
    "collapsed": false,
    "ExecuteTime": {
     "start_time": "2023-04-11T22:34:13.537694Z",
     "end_time": "2023-04-11T22:34:15.887939Z"
    }
   }
  },
  {
   "cell_type": "code",
   "execution_count": 5,
   "metadata": {
    "ExecuteTime": {
     "start_time": "2023-04-11T22:35:14.111956Z",
     "end_time": "2023-04-11T22:35:17.169641Z"
    }
   },
   "outputs": [
    {
     "name": "stderr",
     "output_type": "stream",
     "text": [
      "Generate config GenerationConfig {\n",
      "  \"_from_model_config\": true,\n",
      "  \"bos_token_id\": 50256,\n",
      "  \"eos_token_id\": 50256,\n",
      "  \"transformers_version\": \"4.27.4\"\n",
      "}\n",
      "\n"
     ]
    },
    {
     "name": "stdout",
     "output_type": "stream",
     "text": [
      "\u001B[1mferry is een grappige man\n",
      "smartlappen maken is zijn plan\u001B[0m\n",
      "want geen vrouw en voor jou\n",
      "nog een ander\n",
      "het is een beetje goed\n",
      "\n",
      "de tijd\n",
      "ohoh manio met me\n",
      "ik word te vertellen\n",
      "\n",
      "\n",
      "\n",
      "en ik de tijd\n",
      "zo zal je mij\n",
      "ik wil ik van jouw eigen schat\n",
      "\n",
      "\n",
      "nu wordt niet\n",
      "\n",
      "t is n een beetje\n",
      "tal van jou te stil\n",
      "het is niet te vertellen\n",
      "dus is weer bij jou voor mij\n",
      "je bent\n",
      "dat zegt je zegt ik zeg mn hart al ben ik en dan in weg\n",
      "de man als ik jou wil je mij\n",
      "\n",
      "\n",
      "geef je bent dat jij en je denkt ik dat is het staat mn hart naar de toekomst van jou\n",
      "\n",
      "shalalalalal ben jij wel van jou de tijd\n",
      "want ik in de nacht een goed\n",
      "\n",
      "\n",
      "want ik moet jij te weten jij\n",
      "je bent ik je bent ik heb jij mijn tranen\n",
      "de mooiste en ben mij\n",
      "\n",
      "t is het is echt samen\n",
      "jij\n",
      "de liefde is weer dat je naar hem\n",
      "toen jij je hebt alles voor jou\n",
      "\n",
      "\n",
      "\n",
      "\n",
      "want ik jou\n",
      "eoom\n",
      "wat was er al jou\n",
      "hij bent aan\n",
      "de\n"
     ]
    }
   ],
   "source": [
    "prompt=\"ferry is een grappige man\\nsmartlappen maken is zijn plan\"\n",
    "\n",
    "ai.generate(prompt=prompt)"
   ]
  }
 ],
 "metadata": {
  "kernelspec": {
   "display_name": "venv",
   "language": "python",
   "name": "python3"
  },
  "language_info": {
   "codemirror_mode": {
    "name": "ipython",
    "version": 3
   },
   "file_extension": ".py",
   "mimetype": "text/x-python",
   "name": "python",
   "nbconvert_exporter": "python",
   "pygments_lexer": "ipython3",
   "version": "3.8.10"
  },
  "orig_nbformat": 4
 },
 "nbformat": 4,
 "nbformat_minor": 2
}
