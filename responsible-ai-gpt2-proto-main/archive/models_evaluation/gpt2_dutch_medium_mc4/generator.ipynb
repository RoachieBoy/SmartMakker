{
 "cells": [
  {
   "cell_type": "code",
   "execution_count": null,
   "metadata": {
    "ExecuteTime": {
     "start_time": "2023-04-14T11:24:03.729471Z",
     "end_time": "2023-04-14T11:24:05.688047Z"
    }
   },
   "outputs": [],
   "source": [
    "import torch\n",
    "import transformers\n",
    "\n",
    "from aitextgen import aitextgen\n",
    "\n",
    "model_folder = \"output\"\n",
    "model_source = \"yhavinga/gpt2-medium-dutch\""
   ]
  },
  {
   "cell_type": "code",
   "execution_count": null,
   "metadata": {
    "ExecuteTime": {
     "start_time": "2023-04-14T11:24:05.689233Z",
     "end_time": "2023-04-14T11:24:05.690414Z"
    }
   },
   "outputs": [],
   "source": [
    "gpu_available = torch.cuda.is_available()"
   ]
  },
  {
   "cell_type": "code",
   "execution_count": null,
   "metadata": {
    "ExecuteTime": {
     "start_time": "2023-04-14T11:24:05.690782Z",
     "end_time": "2023-04-14T11:24:14.046004Z"
    }
   },
   "outputs": [],
   "source": [
    "ai = aitextgen(model_folder=model_folder, to_gpu=gpu_available)\n",
    "\n",
    "tokenizer = transformers.AutoTokenizer.from_pretrained(model_source)\n",
    "\n",
    "ai.tokenizer = tokenizer"
   ]
  },
  {
   "cell_type": "code",
   "execution_count": null,
   "metadata": {
    "ExecuteTime": {
     "start_time": "2023-04-14T11:27:01.851433Z",
     "end_time": "2023-04-14T11:27:13.141211Z"
    }
   },
   "outputs": [],
   "source": [
    "prompt=\"\"\"\n",
    "in de kroeg aan de haven\n",
    "zat zij te wachten op hem\n",
    "maar hij kwam nooit opdagen\n",
    "haar hart brak in ontelbaar veel stukken uit elkaar\n",
    "nu drinkt zij haar verdriet weg, elke dag weer\n",
    "\"\"\"\n",
    "\n",
    "ai.generate(\n",
    "    prompt=prompt,\n",
    "    seed=27,\n",
    "    min_length=100,\n",
    "    max_length=250,\n",
    "    temperature=0.9,\n",
    "    top_k=75,\n",
    "    top_p=0.985,\n",
    "    repetition_penalty=0.985\n",
    ")"
   ]
  }
 ],
 "metadata": {
  "kernelspec": {
   "display_name": "venv",
   "language": "python",
   "name": "python3"
  },
  "language_info": {
   "codemirror_mode": {
    "name": "ipython",
    "version": 3
   },
   "file_extension": ".py",
   "mimetype": "text/x-python",
   "name": "python",
   "nbconvert_exporter": "python",
   "pygments_lexer": "ipython3",
   "version": "3.8.10"
  },
  "orig_nbformat": 4
 },
 "nbformat": 4,
 "nbformat_minor": 2
}
