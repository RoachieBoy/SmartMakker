{
 "cells": [
  {
   "cell_type": "code",
   "execution_count": null,
   "metadata": {
    "ExecuteTime": {
     "start_time": "2023-04-12T23:53:10.028801Z",
     "end_time": "2023-04-12T23:53:10.045814Z"
    }
   },
   "outputs": [],
   "source": [
    "import torch\n",
    "import transformers\n",
    "import warnings \n",
    "\n",
    "from aitextgen.TokenDataset import TokenDataset\n",
    "from aitextgen.aitextgen import aitextgen\n",
    "\n",
    "model_source = \"./output\"\n",
    "filepath_dataset = r\"../evaluation_training_data/lyrics_2500.csv\"\n",
    "num_steps = 5000\n",
    "\n",
    "warnings.filterwarnings(\"ignore\")"
   ]
  },
  {
   "cell_type": "code",
   "execution_count": null,
   "metadata": {
    "ExecuteTime": {
     "start_time": "2023-04-12T23:53:10.595826Z",
     "end_time": "2023-04-12T23:53:10.629861Z"
    },
    "collapsed": false
   },
   "outputs": [],
   "source": [
    "gpu_available = torch.cuda.is_available()\n",
    "\n",
    "if gpu_available:\n",
    "    torch.set_float32_matmul_precision('medium')"
   ]
  },
  {
   "cell_type": "code",
   "execution_count": null,
   "metadata": {
    "ExecuteTime": {
     "start_time": "2023-04-12T23:53:11.036308Z",
     "end_time": "2023-04-12T23:53:14.708132Z"
    }
   },
   "outputs": [],
   "source": [
    "model = aitextgen(\n",
    "    model_folder=model_source,\n",
    "    verbose=False,\n",
    "    to_gpu=gpu_available,\n",
    ")\n",
    "\n",
    "tokenizer = transformers.AutoTokenizer.from_pretrained(\"yhavinga/gpt2-medium-dutch\")\n",
    "\n",
    "model.tokenizer = tokenizer"
   ]
  },
  {
   "cell_type": "code",
   "execution_count": null,
   "metadata": {
    "ExecuteTime": {
     "start_time": "2023-04-12T23:53:19.296151Z",
     "end_time": "2023-04-12T23:53:19.333160Z"
    }
   },
   "outputs": [],
   "source": [
    "model.model"
   ]
  },
  {
   "cell_type": "code",
   "execution_count": null,
   "metadata": {
    "ExecuteTime": {
     "start_time": "2023-04-12T23:53:21.567732Z",
     "end_time": "2023-04-12T23:53:21.717764Z"
    }
   },
   "outputs": [],
   "source": [
    "train_data = TokenDataset(\n",
    "    file_path=filepath_dataset,\n",
    "    tokenizer=tokenizer,\n",
    "    line_by_line=True\n",
    ")"
   ]
  },
  {
   "cell_type": "code",
   "execution_count": null,
   "metadata": {
    "ExecuteTime": {
     "start_time": "2023-04-12T23:53:29.234046Z",
     "end_time": "2023-04-13T00:33:02.403464Z"
    }
   },
   "outputs": [],
   "source": [
    "model.train(\n",
    "    train_data=train_data,\n",
    "    seed=27,\n",
    "    num_steps=num_steps,\n",
    "    generate_every=500,\n",
    "    output_dir=r\"./output\",\n",
    "    freeze_layers=True,\n",
    "    num_layers_freeze=10\n",
    ")"
   ]
  }
 ],
 "metadata": {
  "kernelspec": {
   "display_name": "PyTorch",
   "language": "python",
   "name": "python3"
  },
  "language_info": {
   "codemirror_mode": {
    "name": "ipython",
    "version": 3
   },
   "file_extension": ".py",
   "mimetype": "text/x-python",
   "name": "python",
   "nbconvert_exporter": "python",
   "pygments_lexer": "ipython3",
   "version": "3.8.10"
  },
  "orig_nbformat": 4
 },
 "nbformat": 4,
 "nbformat_minor": 2
}
