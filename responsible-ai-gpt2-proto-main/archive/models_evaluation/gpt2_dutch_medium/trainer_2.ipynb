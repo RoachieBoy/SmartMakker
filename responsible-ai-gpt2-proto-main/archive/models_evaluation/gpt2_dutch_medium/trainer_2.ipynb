{
 "cells": [
  {
   "cell_type": "code",
   "execution_count": 5,
   "metadata": {
    "ExecuteTime": {
     "start_time": "2023-04-12T23:53:10.028801Z",
     "end_time": "2023-04-12T23:53:10.045814Z"
    }
   },
   "outputs": [],
   "source": [
    "import torch\n",
    "import transformers\n",
    "import warnings \n",
    "\n",
    "from aitextgen.TokenDataset import TokenDataset\n",
    "from aitextgen.aitextgen import aitextgen\n",
    "\n",
    "model_source = \"./output\"\n",
    "filepath_dataset = r\"../evaluation_training_data/lyrics_400.csv\"\n",
    "num_steps = 5000\n",
    "\n",
    "warnings.filterwarnings(\"ignore\")"
   ]
  },
  {
   "cell_type": "code",
   "execution_count": 6,
   "metadata": {
    "ExecuteTime": {
     "start_time": "2023-04-12T23:53:10.595826Z",
     "end_time": "2023-04-12T23:53:10.629861Z"
    },
    "collapsed": false
   },
   "outputs": [],
   "source": [
    "gpu_available = torch.cuda.is_available()\n",
    "\n",
    "if gpu_available:\n",
    "    torch.set_float32_matmul_precision('medium')"
   ]
  },
  {
   "cell_type": "code",
   "execution_count": 7,
   "metadata": {
    "ExecuteTime": {
     "start_time": "2023-04-12T23:53:11.036308Z",
     "end_time": "2023-04-12T23:53:14.708132Z"
    }
   },
   "outputs": [
    {
     "name": "stderr",
     "output_type": "stream",
     "text": [
      "Generate config GenerationConfig {\n",
      "  \"_from_model_config\": true,\n",
      "  \"bos_token_id\": 1,\n",
      "  \"eos_token_id\": 2,\n",
      "  \"pad_token_id\": 0,\n",
      "  \"transformers_version\": \"4.27.4\"\n",
      "}\n",
      "\n",
      "loading configuration file ./output\\generation_config.json\n",
      "Generate config GenerationConfig {\n",
      "  \"_from_model_config\": true,\n",
      "  \"bos_token_id\": 1,\n",
      "  \"eos_token_id\": 2,\n",
      "  \"pad_token_id\": 0,\n",
      "  \"transformers_version\": \"4.27.4\"\n",
      "}\n",
      "\n",
      "loading file vocab.json from cache at C:\\Users\\winan/.cache\\huggingface\\hub\\models--GroNLP--gpt2-medium-dutch-embeddings\\snapshots\\0ea2e72f4d0a68c02ca02e62c7f3deadc956c1e7\\vocab.json\n",
      "loading file merges.txt from cache at C:\\Users\\winan/.cache\\huggingface\\hub\\models--GroNLP--gpt2-medium-dutch-embeddings\\snapshots\\0ea2e72f4d0a68c02ca02e62c7f3deadc956c1e7\\merges.txt\n",
      "loading file tokenizer.json from cache at C:\\Users\\winan/.cache\\huggingface\\hub\\models--GroNLP--gpt2-medium-dutch-embeddings\\snapshots\\0ea2e72f4d0a68c02ca02e62c7f3deadc956c1e7\\tokenizer.json\n",
      "loading file added_tokens.json from cache at None\n",
      "loading file special_tokens_map.json from cache at C:\\Users\\winan/.cache\\huggingface\\hub\\models--GroNLP--gpt2-medium-dutch-embeddings\\snapshots\\0ea2e72f4d0a68c02ca02e62c7f3deadc956c1e7\\special_tokens_map.json\n",
      "loading file tokenizer_config.json from cache at C:\\Users\\winan/.cache\\huggingface\\hub\\models--GroNLP--gpt2-medium-dutch-embeddings\\snapshots\\0ea2e72f4d0a68c02ca02e62c7f3deadc956c1e7\\tokenizer_config.json\n"
     ]
    }
   ],
   "source": [
    "model = aitextgen(\n",
    "    model_folder=model_source,\n",
    "    verbose=False,\n",
    "    to_gpu=gpu_available,\n",
    ")\n",
    "\n",
    "tokenizer = transformers.AutoTokenizer.from_pretrained(\"GroNLP/gpt2-medium-dutch-embeddings\")\n",
    "\n",
    "model.tokenizer = tokenizer"
   ]
  },
  {
   "cell_type": "code",
   "execution_count": 8,
   "metadata": {
    "ExecuteTime": {
     "start_time": "2023-04-12T23:53:19.296151Z",
     "end_time": "2023-04-12T23:53:19.333160Z"
    }
   },
   "outputs": [
    {
     "data": {
      "text/plain": "GPT2LMHeadModel(\n  (transformer): GPT2Model(\n    (wte): Embedding(40000, 1024)\n    (wpe): Embedding(1024, 1024)\n    (drop): Dropout(p=0.1, inplace=False)\n    (h): ModuleList(\n      (0-23): 24 x GPT2Block(\n        (ln_1): LayerNorm((1024,), eps=1e-05, elementwise_affine=True)\n        (attn): GPT2Attention(\n          (c_attn): Conv1D()\n          (c_proj): Conv1D()\n          (attn_dropout): Dropout(p=0.1, inplace=False)\n          (resid_dropout): Dropout(p=0.1, inplace=False)\n        )\n        (ln_2): LayerNorm((1024,), eps=1e-05, elementwise_affine=True)\n        (mlp): GPT2MLP(\n          (c_fc): Conv1D()\n          (c_proj): Conv1D()\n          (act): NewGELUActivation()\n          (dropout): Dropout(p=0.1, inplace=False)\n        )\n      )\n    )\n    (ln_f): LayerNorm((1024,), eps=1e-05, elementwise_affine=True)\n  )\n  (lm_head): Linear(in_features=1024, out_features=40000, bias=False)\n)"
     },
     "execution_count": 8,
     "metadata": {},
     "output_type": "execute_result"
    }
   ],
   "source": [
    "model.model"
   ]
  },
  {
   "cell_type": "code",
   "execution_count": 9,
   "metadata": {
    "ExecuteTime": {
     "start_time": "2023-04-12T23:53:21.567732Z",
     "end_time": "2023-04-12T23:53:21.717764Z"
    }
   },
   "outputs": [
    {
     "data": {
      "text/plain": "  0%|          | 0/396 [00:00<?, ?it/s]",
      "application/vnd.jupyter.widget-view+json": {
       "version_major": 2,
       "version_minor": 0,
       "model_id": "64acdcea893640f886754fb0e156b460"
      }
     },
     "metadata": {},
     "output_type": "display_data"
    }
   ],
   "source": [
    "train_data = TokenDataset(\n",
    "    file_path=filepath_dataset,\n",
    "    tokenizer=tokenizer,\n",
    "    line_by_line=True\n",
    ")"
   ]
  },
  {
   "cell_type": "code",
   "execution_count": 10,
   "metadata": {
    "ExecuteTime": {
     "start_time": "2023-04-12T23:53:29.234046Z",
     "end_time": "2023-04-13T00:33:02.403464Z"
    }
   },
   "outputs": [
    {
     "name": "stderr",
     "output_type": "stream",
     "text": [
      "pytorch_model.bin already exists in /./output and will be overwritten!\n",
      "Windows does not support multi-GPU training. Setting to 1 GPU.\n",
      "GPU available: True (cuda), used: True\n",
      "TPU available: False, using: 0 TPU cores\n",
      "IPU available: False, using: 0 IPUs\n",
      "HPU available: False, using: 0 HPUs\n",
      "LOCAL_RANK: 0 - CUDA_VISIBLE_DEVICES: [0]\n"
     ]
    },
    {
     "data": {
      "text/plain": "  0%|          | 0/5000 [00:00<?, ?it/s]",
      "application/vnd.jupyter.widget-view+json": {
       "version_major": 2,
       "version_minor": 0,
       "model_id": "62990b210c0a4c6c9e508b634848c278"
      }
     },
     "metadata": {},
     "output_type": "display_data"
    },
    {
     "name": "stderr",
     "output_type": "stream",
     "text": [
      "Generate config GenerationConfig {\n",
      "  \"_from_model_config\": true,\n",
      "  \"bos_token_id\": 1,\n",
      "  \"eos_token_id\": 2,\n",
      "  \"pad_token_id\": 0,\n",
      "  \"transformers_version\": \"4.27.4\"\n",
      "}\n",
      "\n"
     ]
    },
    {
     "name": "stdout",
     "output_type": "stream",
     "text": [
      "\u001B[1m500 steps reached: generating sample texts.\u001B[0m\n",
      "==========\n",
      "n hart\n",
      "met jou jou jou jou jou\n",
      "met jou\n",
      "de wereld ben ik hier zo blij\n",
      "dat ik dit heb gevonden\n",
      "mijn hart geraakt\n",
      "mijn geluk gebracht\n",
      "het is dat ik jou niet heb gezegd<|endoftext|>ik had kunnen weten dat jij me bedroog met die ander\n",
      "terwijl je bij haar was zat ik dan te wachten op jou\n",
      "ik had kunnen weten dat jij me bedroog met die ander\n",
      "ik geloofde je altijd want ik gaf je alles als vrouw\n",
      "ik zou je kunnen vergeven\n",
      "als je weer terug komt bij mij\n",
      "ik zou je kunnen vergeven\n",
      "als je weer terug komt bij mij\n",
      "ik zou je kunnen vergeven\n",
      "als je me zegt t is voorbij\n",
      "terwijl je bij haar was zat ik vaak om jou vaak te\n",
      "huilen\n",
      "toch geloofde ik nog niet wat altijd van jou werd\n",
      "gezegd\n",
      "je had me beloofd dat je altijd van mij toch zou\n",
      "blijven\n",
      "waarom je me ontrouw was dat heb je me nooit uitgelegd<|endoftext|>eens zou je komen\n",
      "jij van mijn dromen\n",
      "lang heb ik op jou gewacht\n",
      "eens in jou armen\n",
      "het zou me verwarmen\n",
      "zo denk ik elke nacht\n",
      "ik blijf op je wachten\n",
      "dagen en nachten\n",
      "tot jij weer\n",
      "==========\n"
     ]
    },
    {
     "name": "stderr",
     "output_type": "stream",
     "text": [
      "Configuration saved in ./output\\generation_config.json\n"
     ]
    },
    {
     "name": "stdout",
     "output_type": "stream",
     "text": [
      "\u001B[1m1,000 steps reached: saving model to /./output\u001B[0m\n"
     ]
    },
    {
     "name": "stderr",
     "output_type": "stream",
     "text": [
      "Generate config GenerationConfig {\n",
      "  \"_from_model_config\": true,\n",
      "  \"bos_token_id\": 1,\n",
      "  \"eos_token_id\": 2,\n",
      "  \"pad_token_id\": 0,\n",
      "  \"transformers_version\": \"4.27.4\"\n",
      "}\n",
      "\n"
     ]
    },
    {
     "name": "stdout",
     "output_type": "stream",
     "text": [
      "\u001B[1m1,000 steps reached: generating sample texts.\u001B[0m\n",
      "==========\n",
      " met al mijn tranen in mijn ogen kijk zegt dat genoeg\n",
      "moet jij echt van mij toch bij me zijn\n",
      "want ik wil jou alles geven\n",
      "ik wil je alles geven\n",
      "al die praatjes van jou\n",
      "want je hart is toch iedereen moet ik huilen\n",
      "ik ben zo blij dat jij hier nog niet\n",
      "\n",
      "ik moet je zo graag vergeten\n",
      "dat je mij zo naar jou kijk\n",
      "als je nog nooit bent weggeweest\n",
      "leef ik nog elke dag\n",
      "\n",
      "jij bent echt van mij toch vertrouwde\n",
      "oh kom toch weer even dan in mijn leven\n",
      "ja echt van jou\n",
      "ik wil jou alles geven\n",
      "al die praatjes van jou\n",
      "waar je nog niet meer van mij\n",
      "ik kan jou zomaar niet\n",
      "gewoonle en niet met hem\n",
      "jij neemt me toch ben ik de beste maar ook mis\n",
      "jij krijgt die lach niet van mijn gezicht\n",
      "ik wil je alles geven\n",
      "maar je arm om je schouders heen\n",
      "ik wil je alles geven\n",
      "maar jij geeft geen antwoord\n",
      "ik zal je alles doen\n",
      "maar jij weet dat ik jou nooit meer van jou\n",
      "straks komt je glimlach weer\n",
      "kom alleen\n",
      "maar je t gaat ieder alleen\n",
      "\n",
      "\n",
      "ben je t moet het doen\n",
      "maar vanavond telt alleen voor jou de lol\n",
      "oh ik kan niet meer zonder jou\n",
      "want\n",
      "==========\n"
     ]
    },
    {
     "name": "stderr",
     "output_type": "stream",
     "text": [
      "Generate config GenerationConfig {\n",
      "  \"_from_model_config\": true,\n",
      "  \"bos_token_id\": 1,\n",
      "  \"eos_token_id\": 2,\n",
      "  \"pad_token_id\": 0,\n",
      "  \"transformers_version\": \"4.27.4\"\n",
      "}\n",
      "\n"
     ]
    },
    {
     "name": "stdout",
     "output_type": "stream",
     "text": [
      "\u001B[1m1,500 steps reached: generating sample texts.\u001B[0m\n",
      "==========\n",
      "\n",
      "ik was een vriend bij jou gekend\n",
      "jij bent voor mij de ware\n",
      "zolang ik leef blijf ik echt in gedachten\n",
      "jij bent de mooiste\n",
      "als ik jou ken wil je elke dag\n",
      "\n",
      "\n",
      "ik kan jou niet vergeten\n",
      "een vriend voor heel het leven\n",
      "al was het maar voor even\n",
      "een zoen\n",
      "ik kan jou nooit meer zonder jou zijn\n",
      "maar dat zijn je\n",
      "jij bent de mooiste\n",
      "als ik jou ontmoet\n",
      "ik blijf echt trouw\n",
      "jij bent de liefste van alle vrouwen\n",
      "zolang ik leef laat jouw dromen\n",
      "denk niet meer aan mij\n",
      "ik wil je elke dag mijn liefste\n",
      "elke dag dat is liefde die tijd is niet meer\n",
      "dat telt\n",
      "\n",
      "wil ik alleen \n",
      "ik voel me precies als jij\n",
      "dus jij bent het weer bij me elke dag\n",
      "\n",
      "kom en je bent het echt van mij\n",
      "\n",
      "kom en je bent het echt van mij\n",
      "\n",
      "ik wil je alles geven\n",
      "ik wil je alles geven\n",
      "want je bent de mooiste\n",
      "als je bent een tijd snel in de aarde\n",
      "\n",
      "ik wil jou niet vergeten\n",
      "ik wil jou alles geven\n",
      "soms is het moeilijk\n",
      "die ik jou iets anders noemt\n",
      "zolang ik jou ken heb ik geen gemis\n",
      "ik wil t van de daken schreeuwen\n",
      "\n",
      "==========\n"
     ]
    },
    {
     "name": "stderr",
     "output_type": "stream",
     "text": [
      "Configuration saved in ./output\\generation_config.json\n"
     ]
    },
    {
     "name": "stdout",
     "output_type": "stream",
     "text": [
      "\u001B[1m2,000 steps reached: saving model to /./output\u001B[0m\n"
     ]
    },
    {
     "name": "stderr",
     "output_type": "stream",
     "text": [
      "Generate config GenerationConfig {\n",
      "  \"_from_model_config\": true,\n",
      "  \"bos_token_id\": 1,\n",
      "  \"eos_token_id\": 2,\n",
      "  \"pad_token_id\": 0,\n",
      "  \"transformers_version\": \"4.27.4\"\n",
      "}\n",
      "\n"
     ]
    },
    {
     "name": "stdout",
     "output_type": "stream",
     "text": [
      "\u001B[1m2,000 steps reached: generating sample texts.\u001B[0m\n",
      "==========\n",
      "\n",
      "ik ga met je mee\n",
      "want ik laat je nu niet meer gaan\n",
      "geef mij nu je angst\n",
      "ik geef je er hoop voor terug\n",
      "geef mij nu de nacht\n",
      "ik geef je de morgen terug\n",
      "\n",
      "zolang ik je niet verlies\n",
      "vind ik heus wel de weg met jou\n",
      "\n",
      "\n",
      "kijk mij nu eens aan\n",
      "ik leef mijn droom\n",
      "zolang dat ik weer bij me bent\n",
      "\n",
      "ik blijf alleen van jou\n",
      "jij bent de zomer oh ik hou zo van jou\n",
      "wat wil ik toch met jou\n",
      "\n",
      "jij verdiend een ander\n",
      "we horen bij elkaar\n",
      "wat wil ik toch met jou\n",
      "\n",
      "wat wil ik jou\n",
      "\n",
      "we horen bij elkander\n",
      "wat wil ik hier gaan\n",
      "ik wil met jou\n",
      "\n",
      "wat wil ik dit leven zijn\n",
      "\n",
      "we horen bij elkander\n",
      "\n",
      "wat wil ik nog meer dan een keertje overdoen\n",
      "\n",
      "\n",
      "toch wil ik niet weg\n",
      "\n",
      "wat is dr over van de stad\n",
      "maar iets te kort maar gaat\n",
      "maar op een dag geleden\n",
      "\n",
      "ik\n",
      "de muziek van de liefde\n",
      "t was een feest\n",
      "de mnou die halen we niet op tafel\n",
      "de banken zijn verdwenen\n",
      "\n",
      "want we staan nog lang niet gek\n",
      "\n",
      "geen werk dus geen poen en straks ook\n",
      "==========\n"
     ]
    },
    {
     "name": "stderr",
     "output_type": "stream",
     "text": [
      "Generate config GenerationConfig {\n",
      "  \"_from_model_config\": true,\n",
      "  \"bos_token_id\": 1,\n",
      "  \"eos_token_id\": 2,\n",
      "  \"pad_token_id\": 0,\n",
      "  \"transformers_version\": \"4.27.4\"\n",
      "}\n",
      "\n"
     ]
    },
    {
     "name": "stdout",
     "output_type": "stream",
     "text": [
      "\u001B[1m2,500 steps reached: generating sample texts.\u001B[0m\n",
      "==========\n",
      "\n",
      "\n",
      "t is net of ik door wil je het te dragen\n",
      "\n",
      "laat me alleen ik wil je nooit alleen\n",
      "dat zou je alles wat ik wil\n",
      "\n",
      "je laat me niet alleen\n",
      "\n",
      "als jij nou bij me bent\n",
      "ik blijf niet gek dat ik iemand straks nog mis\n",
      "ik blijf echt alleen\n",
      "ja echt alleen\n",
      "geen gezeur meer aan mn kop ach rot nu maar op\n",
      "\n",
      "met bloed zweet\n",
      "\n",
      "met bloed zweet en tranen\n",
      "zei ik rot hier nu maar op\n",
      "met bloed zweet en tranen\n",
      "zei ik rot hier nu maar op\n",
      "met bloed zweet en tranen\n",
      "zei ik rot hier nu maar op\n",
      "met bloed zweet en tranen\n",
      "zei ik rot hier nu maar op\n",
      "met bloed zweet en tranen\n",
      "zei ik rot hier nu maar op\n",
      "met bloed zweet en tranen\n",
      "zei ik zee dag nog het vandaag\n",
      "s avonds zijn wij alleen\n",
      "s avonds zijn wij alleen\n",
      "s avonds zijn wij alleen<|endoftext|>al was die tijd\n",
      "k weet niet waarom\n",
      "jij loopt steeds bij me bent\n",
      "voor eeuwig bij mij\n",
      "je bent een tijd geleden\n",
      "\n",
      "jij moet je ik kan jou niet lang meer stuk\n",
      "heel dicht bij jou zijn\n",
      "voor eeuwig bij mij komen\n",
      "jij en ik\n",
      "die jaren ben ik bij\n",
      "==========\n"
     ]
    },
    {
     "name": "stderr",
     "output_type": "stream",
     "text": [
      "Configuration saved in ./output\\generation_config.json\n"
     ]
    },
    {
     "name": "stdout",
     "output_type": "stream",
     "text": [
      "\u001B[1m3,000 steps reached: saving model to /./output\u001B[0m\n"
     ]
    },
    {
     "name": "stderr",
     "output_type": "stream",
     "text": [
      "Generate config GenerationConfig {\n",
      "  \"_from_model_config\": true,\n",
      "  \"bos_token_id\": 1,\n",
      "  \"eos_token_id\": 2,\n",
      "  \"pad_token_id\": 0,\n",
      "  \"transformers_version\": \"4.27.4\"\n",
      "}\n",
      "\n"
     ]
    },
    {
     "name": "stdout",
     "output_type": "stream",
     "text": [
      "\u001B[1m3,000 steps reached: generating sample texts.\u001B[0m\n",
      "==========\n",
      "\n",
      "maar dan wel niet te lang\n",
      "\n",
      "als er een ander is\n",
      "dan komt het misschien met jou\n",
      "ik zou weten\n",
      "hier een brief voor ons als dochter\n",
      "ik zou kunnen sturen\n",
      "ik wou graag met je laten gaan\n",
      "maar ik zal nu vertrekken\n",
      "en die mooie wereld gaat me pijn\n",
      "ik zal er altijd voor jou zijn\n",
      "\n",
      "ik zal er altijd voor jou zijn\n",
      "\n",
      "als er altijd zal zijn\n",
      "\n",
      "ik zal er altijd voor jou zijn\n",
      "\n",
      "ik zal er altijd\n",
      "voor jou zijn\n",
      "\n",
      "ik zal er altijd\n",
      "voor jou zijn\n",
      "\n",
      "ik zal er altijd\n",
      "\n",
      "als ik jou zo zie spelen\n",
      "voel ik lievde\n",
      "balalalala\n",
      "ik sta me weer in je armen\n",
      "ik wil je alles geven\n",
      "\n",
      "balalalala me zo mooi om raad\n",
      "balalala\n",
      "\n",
      "ik ben in mn armen\n",
      "ik zal je zo mooi leven\n",
      "balalalala me zo mooi om mij\n",
      "\n",
      "balalalala\n",
      "\n",
      "ik sta me zo weer in je armen\n",
      "ik wil je alles geven\n",
      "\n",
      "ik zal er altijd voor jou zijn\n",
      "\n",
      "alala me zo mooi om mij\n",
      "\n",
      "ik zal er altijd\n",
      "\n",
      "lalalala me zo mooi voor mij\n",
      "\n",
      "balalalal\n",
      "==========\n"
     ]
    },
    {
     "name": "stderr",
     "output_type": "stream",
     "text": [
      "Generate config GenerationConfig {\n",
      "  \"_from_model_config\": true,\n",
      "  \"bos_token_id\": 1,\n",
      "  \"eos_token_id\": 2,\n",
      "  \"pad_token_id\": 0,\n",
      "  \"transformers_version\": \"4.27.4\"\n",
      "}\n",
      "\n"
     ]
    },
    {
     "name": "stdout",
     "output_type": "stream",
     "text": [
      "\u001B[1m3,500 steps reached: generating sample texts.\u001B[0m\n",
      "==========\n",
      " dat jij nog wat blijven kon gebeuren\n",
      "is dat lieve schat\n",
      "begrijp me niet waarom en hoe dat van me houdt\n",
      "je zegt\n",
      "je bent voor mij\n",
      "je kust me en voeten\n",
      "gaat het bootje en dus gelukkig\n",
      "\n",
      "kom en er nog heel lang\n",
      "\n",
      "ja de mensen om je heen\n",
      "en wie mij nu liefhebben kan\n",
      "weet dat ik alleen\n",
      "\n",
      "laat mij alleen en kom niet met verhalen over spijt\n",
      "je staat bij mij\n",
      "laat mij alleen ik wil niet meer zo leven als voorheen\n",
      "ik voel me nu bevrijd ik blijf alleen\n",
      "laat mij alleen ik blijf alleen\n",
      "laat mij alleen en kom niet met verhalen over spijt\n",
      "je staat bij mij\n",
      "laat mij alleen ik wil niet meer zo leven als voorheen\n",
      "ik voel me nu bevrijd ik blijf alleen<|endoftext|>oh julia je weet iedereen houdt van jou\n",
      "want jij bent een engel\n",
      "je bent zo betoverend een prachtige vrouw\n",
      "voor mij van onschatbare waarde was zij echt veel meer dan een tien\n",
      "\n",
      "oh julia je weet iedereen houdt van jou\n",
      "want jij bent een engel\n",
      "je bent zo betoverend een prachtige vrouw\n",
      "voor mij van onschatbare waarde was zij echt veel meer dan een tien\n",
      "\n",
      "\n",
      "oh julia je weet iedereen houdt van\n",
      "==========\n"
     ]
    },
    {
     "name": "stderr",
     "output_type": "stream",
     "text": [
      "Configuration saved in ./output\\generation_config.json\n"
     ]
    },
    {
     "name": "stdout",
     "output_type": "stream",
     "text": [
      "\u001B[1m4,000 steps reached: saving model to /./output\u001B[0m\n"
     ]
    },
    {
     "name": "stderr",
     "output_type": "stream",
     "text": [
      "Generate config GenerationConfig {\n",
      "  \"_from_model_config\": true,\n",
      "  \"bos_token_id\": 1,\n",
      "  \"eos_token_id\": 2,\n",
      "  \"pad_token_id\": 0,\n",
      "  \"transformers_version\": \"4.27.4\"\n",
      "}\n",
      "\n"
     ]
    },
    {
     "name": "stdout",
     "output_type": "stream",
     "text": [
      "\u001B[1m4,000 steps reached: generating sample texts.\u001B[0m\n",
      "==========\n",
      "\n",
      "en weet je het wat er bent\n",
      "als ik eigenlijk wil gaan laat je me niet alleen\n",
      "en ik zing en dans en ik voel me goed\n",
      "ik helemaal uit mn dak\n",
      "doe maar mee doe maar gek want je weet hoe het moet\n",
      "laat je maar gaan laat je maar gaan\n",
      "en dans met me mee\n",
      "who oooooooooooo who oooooooooo\n",
      "\n",
      "het wordt geweldig de vonken springen er vanaf\n",
      "het is weer hysterisch iedereen doet lekker maf\n",
      "want ik zing en dans en ik voel me goed\n",
      "ik helemaal uit mn dak\n",
      "doe maar mee doe maar gek want je weet hoe het moet\n",
      "laat je maar gaan laat je maar gaan laat je maar gaan\n",
      "want ik zing en dans en ik voel me goed\n",
      "ik helemaal uit mn dak\n",
      "doe maar mee doe maar gek want je weet hoe het moet\n",
      "laat je maar gaan laat je maar gaan laat je maar gaan\n",
      "en dans met me mee<|endoftext|>oe na na he he he \n",
      "oe na na na ho ho \n",
      "oe na na he he \n",
      "oe na na ho ho \n",
      "oe na na he he he \n",
      "oe na na ho ho \n",
      "oe na na ho ho \n",
      "oe\n",
      "==========\n"
     ]
    },
    {
     "name": "stderr",
     "output_type": "stream",
     "text": [
      "Generate config GenerationConfig {\n",
      "  \"_from_model_config\": true,\n",
      "  \"bos_token_id\": 1,\n",
      "  \"eos_token_id\": 2,\n",
      "  \"pad_token_id\": 0,\n",
      "  \"transformers_version\": \"4.27.4\"\n",
      "}\n",
      "\n"
     ]
    },
    {
     "name": "stdout",
     "output_type": "stream",
     "text": [
      "\u001B[1m4,500 steps reached: generating sample texts.\u001B[0m\n",
      "==========\n",
      "\n",
      "en we dansen heel de nacht\n",
      "en we fluisteren heel zacht bij de jukebox\n",
      "we houden veel van elkaar\n",
      "een sprookje wordt waar\n",
      "echt waar\n",
      "jij brengt mij naar huis en thuis gaan wij nog even\n",
      "door tot s morgens\n",
      "vroeg\n",
      "zo gaat dat elke week een keer we krijgen nooit\n",
      "genoeg\n",
      "en we dansen heel de nacht\n",
      "en we fluisteren heel zacht bij de jukebox\n",
      "we houden veel van elkaar\n",
      "een sprookje wordt waar\n",
      "echt waar<|endoftext|>wie staat er altijd voor je klaar\n",
      "dat is toch je moedertje\n",
      "wie krijgt er alles voor elkaar\n",
      "dat is toch je moedertje\n",
      "wie zorgt er elke dag voor jou\n",
      "dat is toch je moedertje\n",
      "ja de allerliefste vrouw\n",
      "dat is toch je moedertje\n",
      "wie is het die jou leerde lopen\n",
      "dat is toch je moedertje\n",
      "wie leerde jou je veters knopen\n",
      "dat is toch je moedertje\n",
      "wie heeft jou schaatsen aangebonden\n",
      "dat is toch je moedertje\n",
      "wie legt de dokter in de nacht\n",
      "dat is toch je moedertje\n",
      "wie legt de dokter in de nacht\n",
      "dat is toch je moedertje\n",
      "zij is alles voor elkaar\n",
      "dat is toch je moedertje\n",
      "wie heeft jou schaatsen aangebonden\n",
      "dat\n",
      "==========\n"
     ]
    },
    {
     "name": "stderr",
     "output_type": "stream",
     "text": [
      "Configuration saved in ./output\\generation_config.json\n"
     ]
    },
    {
     "name": "stdout",
     "output_type": "stream",
     "text": [
      "\u001B[1m5,000 steps reached: saving model to /./output\u001B[0m\n"
     ]
    },
    {
     "name": "stderr",
     "output_type": "stream",
     "text": [
      "Generate config GenerationConfig {\n",
      "  \"_from_model_config\": true,\n",
      "  \"bos_token_id\": 1,\n",
      "  \"eos_token_id\": 2,\n",
      "  \"pad_token_id\": 0,\n",
      "  \"transformers_version\": \"4.27.4\"\n",
      "}\n",
      "\n"
     ]
    },
    {
     "name": "stdout",
     "output_type": "stream",
     "text": [
      "\u001B[1m5,000 steps reached: generating sample texts.\u001B[0m\n"
     ]
    },
    {
     "name": "stderr",
     "output_type": "stream",
     "text": [
      "`Trainer.fit` stopped: `max_steps=5000` reached.\n"
     ]
    },
    {
     "name": "stdout",
     "output_type": "stream",
     "text": [
      "==========\n",
      "\n",
      "en je laat je vrij want jij bent niet van mij\n",
      "niet van mij\n",
      "\n",
      "waar ik ook ben wat ik je zei\n",
      "geen van jou blijf jij nu nog van mij<|endoftext|>t was aan de costa del sol \n",
      "daar sloeg mijn hartje op hol \n",
      "hij sprak mij van amore\n",
      "ik was finaal verloren\n",
      "hij speelde op zn gitaar \n",
      "en streelde zacht door mn haar \n",
      "nooit zal ik hem vergeten\n",
      "hem en de costa del sol\n",
      "het was zo fijn bij man\n",
      "en toen trok me uit mn jasje\n",
      "n koffer zonder tas\n",
      "naar het strand \n",
      "maakt ze met nieuwe auto \n",
      "dan nam me met zich mee\n",
      "ze gingen de derde hemel\n",
      "en die zei wat hij wilde\n",
      "en ik mocht erin\n",
      "ik heb daar al met jou nog eens praten\n",
      "en spana manana\n",
      "en voel hij vrij\n",
      "hij sprak mij van amore\n",
      "ik weet niet wat ik mis\n",
      "hij zei mij om laat het zover\n",
      "\n",
      "het was mario giseppe ofzoiets\n",
      "maar zo heten der velen\n",
      "elke dag dat werd met hem het grootste feest ik heb er van genoten\n",
      "maar de pizza de spaghetti en de wijn\n",
      "die mis ik nog het\n",
      "==========\n"
     ]
    },
    {
     "name": "stderr",
     "output_type": "stream",
     "text": [
      "Configuration saved in ./output\\generation_config.json\n"
     ]
    }
   ],
   "source": [
    "model.train(\n",
    "    train_data=train_data,\n",
    "    seed=27,\n",
    "    num_steps=num_steps,\n",
    "    generate_every=500,\n",
    "    output_dir=r\"./output\",\n",
    "    freeze_layers=True,\n",
    "    num_layers_freeze=10\n",
    ")"
   ]
  }
 ],
 "metadata": {
  "kernelspec": {
   "display_name": "PyTorch",
   "language": "python",
   "name": "python3"
  },
  "language_info": {
   "codemirror_mode": {
    "name": "ipython",
    "version": 3
   },
   "file_extension": ".py",
   "mimetype": "text/x-python",
   "name": "python",
   "nbconvert_exporter": "python",
   "pygments_lexer": "ipython3",
   "version": "3.8.10"
  },
  "orig_nbformat": 4
 },
 "nbformat": 4,
 "nbformat_minor": 2
}
