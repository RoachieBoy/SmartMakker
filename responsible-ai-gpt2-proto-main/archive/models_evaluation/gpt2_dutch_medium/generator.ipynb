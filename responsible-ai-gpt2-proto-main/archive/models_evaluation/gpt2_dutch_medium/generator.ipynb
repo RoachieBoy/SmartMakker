{
 "cells": [
  {
   "cell_type": "code",
   "execution_count": 1,
   "metadata": {
    "ExecuteTime": {
     "start_time": "2023-04-13T00:33:39.890850Z",
     "end_time": "2023-04-13T00:33:42.213582Z"
    }
   },
   "outputs": [],
   "source": [
    "import torch\n",
    "import transformers\n",
    "\n",
    "from aitextgen import aitextgen\n",
    "\n",
    "model_folder = \"output\"\n",
    "model_source = \"GroNLP/gpt2-medium-dutch-embeddings\""
   ]
  },
  {
   "cell_type": "code",
   "execution_count": 2,
   "metadata": {
    "ExecuteTime": {
     "start_time": "2023-04-13T00:33:42.214583Z",
     "end_time": "2023-04-13T00:33:42.228590Z"
    }
   },
   "outputs": [],
   "source": [
    "gpu_available = torch.cuda.is_available()"
   ]
  },
  {
   "cell_type": "code",
   "execution_count": 3,
   "metadata": {
    "ExecuteTime": {
     "start_time": "2023-04-13T00:33:42.229589Z",
     "end_time": "2023-04-13T00:33:46.083452Z"
    }
   },
   "outputs": [
    {
     "name": "stderr",
     "output_type": "stream",
     "text": [
      "Generate config GenerationConfig {\n",
      "  \"_from_model_config\": true,\n",
      "  \"bos_token_id\": 1,\n",
      "  \"eos_token_id\": 2,\n",
      "  \"pad_token_id\": 0,\n",
      "  \"transformers_version\": \"4.27.4\"\n",
      "}\n",
      "\n",
      "loading configuration file output\\generation_config.json\n",
      "Generate config GenerationConfig {\n",
      "  \"_from_model_config\": true,\n",
      "  \"bos_token_id\": 1,\n",
      "  \"eos_token_id\": 2,\n",
      "  \"pad_token_id\": 0,\n",
      "  \"transformers_version\": \"4.27.4\"\n",
      "}\n",
      "\n",
      "loading file vocab.json from cache at C:\\Users\\winan/.cache\\huggingface\\hub\\models--GroNLP--gpt2-medium-dutch-embeddings\\snapshots\\0ea2e72f4d0a68c02ca02e62c7f3deadc956c1e7\\vocab.json\n",
      "loading file merges.txt from cache at C:\\Users\\winan/.cache\\huggingface\\hub\\models--GroNLP--gpt2-medium-dutch-embeddings\\snapshots\\0ea2e72f4d0a68c02ca02e62c7f3deadc956c1e7\\merges.txt\n",
      "loading file tokenizer.json from cache at C:\\Users\\winan/.cache\\huggingface\\hub\\models--GroNLP--gpt2-medium-dutch-embeddings\\snapshots\\0ea2e72f4d0a68c02ca02e62c7f3deadc956c1e7\\tokenizer.json\n",
      "loading file added_tokens.json from cache at None\n",
      "loading file special_tokens_map.json from cache at C:\\Users\\winan/.cache\\huggingface\\hub\\models--GroNLP--gpt2-medium-dutch-embeddings\\snapshots\\0ea2e72f4d0a68c02ca02e62c7f3deadc956c1e7\\special_tokens_map.json\n",
      "loading file tokenizer_config.json from cache at C:\\Users\\winan/.cache\\huggingface\\hub\\models--GroNLP--gpt2-medium-dutch-embeddings\\snapshots\\0ea2e72f4d0a68c02ca02e62c7f3deadc956c1e7\\tokenizer_config.json\n"
     ]
    }
   ],
   "source": [
    "ai = aitextgen(model_folder=model_folder, to_gpu=gpu_available)\n",
    "\n",
    "tokenizer = transformers.AutoTokenizer.from_pretrained(model_source)\n",
    "\n",
    "ai.tokenizer = tokenizer"
   ]
  },
  {
   "cell_type": "code",
   "execution_count": 4,
   "metadata": {
    "ExecuteTime": {
     "start_time": "2023-04-13T00:33:50.429925Z",
     "end_time": "2023-04-13T00:33:57.831587Z"
    }
   },
   "outputs": [
    {
     "name": "stderr",
     "output_type": "stream",
     "text": [
      "Generate config GenerationConfig {\n",
      "  \"_from_model_config\": true,\n",
      "  \"bos_token_id\": 1,\n",
      "  \"eos_token_id\": 2,\n",
      "  \"pad_token_id\": 0,\n",
      "  \"transformers_version\": \"4.27.4\"\n",
      "}\n",
      "\n"
     ]
    },
    {
     "name": "stdout",
     "output_type": "stream",
     "text": [
      "\u001B[1mferry is een grappige man\n",
      "smartlappen maken is zijn plan\u001B[0m voor hem \n",
      "ik maak van jouw huis een hemel\n",
      "een hemel met een zon\n",
      "en even wordt mn leven\n",
      "dan een prachtig mooi chanson\n",
      "een lied om van te houden\n",
      "een lied dat alles heeft\n",
      "een lied dat zegt\n",
      "dat zon geluk maar eenmaal wordt beleefd\n",
      "ik maak van jouw huis een hemel\n",
      "een hemel met een zon\n",
      "en even wordt mn leven\n",
      "dan een prachtig mooi chanson\n",
      "het zal eb zijn\n",
      "het zal vloed zijn\n",
      "langs de eindeloze kust\n",
      "en intussen zou het goed zijn\n",
      "als ik in jouw armen rust\n",
      "ja t zal eb zijn en t zal vloed zijn\n",
      "zoals iedere andere dag\n",
      "maar de zee zal even zoet zijn\n",
      "als ik jou beminnen mag\n",
      "\n",
      "ik maak van jouw huis een hemel\n",
      "een hemel met een zon\n",
      "en even wordt mn leven\n",
      "dan een prachtig mooi chanson\n",
      "een lied om van te houden\n",
      "een lied dat alles heeft\n",
      "een lied dat zegt\n",
      "dat zon geluk maar eenmaal wordt beleefd\n",
      "ik maak van jouw huis een hemel\n",
      "een hemel met een zon\n",
      "en even wordt mn leven\n",
      "dan een prachtig mooi chanson\n",
      "\n",
      "een lied om van te houden\n"
     ]
    }
   ],
   "source": [
    "prompt=\"ferry is een grappige man\\nsmartlappen maken is zijn plan\"\n",
    "\n",
    "ai.generate(prompt=prompt)"
   ]
  },
  {
   "cell_type": "code",
   "execution_count": null,
   "outputs": [],
   "source": [],
   "metadata": {
    "collapsed": false
   }
  }
 ],
 "metadata": {
  "kernelspec": {
   "display_name": "venv",
   "language": "python",
   "name": "python3"
  },
  "language_info": {
   "codemirror_mode": {
    "name": "ipython",
    "version": 3
   },
   "file_extension": ".py",
   "mimetype": "text/x-python",
   "name": "python",
   "nbconvert_exporter": "python",
   "pygments_lexer": "ipython3",
   "version": "3.8.10"
  },
  "orig_nbformat": 4
 },
 "nbformat": 4,
 "nbformat_minor": 2
}
