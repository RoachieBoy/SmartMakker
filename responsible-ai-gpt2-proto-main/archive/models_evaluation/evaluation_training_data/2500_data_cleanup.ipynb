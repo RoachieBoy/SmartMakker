{
 "cells": [
  {
   "cell_type": "code",
   "execution_count": 98,
   "metadata": {
    "collapsed": true,
    "ExecuteTime": {
     "start_time": "2023-04-13T22:39:37.252178Z",
     "end_time": "2023-04-13T22:39:37.275191Z"
    }
   },
   "outputs": [],
   "source": [
    "import pandas"
   ]
  },
  {
   "cell_type": "code",
   "execution_count": 99,
   "outputs": [],
   "source": [
    "dataset = pandas.read_csv(\"./lyrics_2500_all_info.csv\")"
   ],
   "metadata": {
    "collapsed": false,
    "ExecuteTime": {
     "start_time": "2023-04-13T22:39:37.437216Z",
     "end_time": "2023-04-13T22:39:37.500234Z"
    }
   }
  },
  {
   "cell_type": "code",
   "execution_count": 100,
   "outputs": [
    {
     "data": {
      "text/plain": "   Unnamed: 0       artist                    title   \n0           0  André Hazes            Kleine Jongen  \\\n1           1  André Hazes       Zij Gelooft In Mij   \n2           2  André Hazes   Bloed, Zweet En Tranen   \n3           3  André Hazes      Zeg Maar Niets Meer   \n4           4  André Hazes  Ik Leef m’n Eigen Leven   \n\n                                               train   \n0  kleine jongen\\nje bent op deze wereld\\ndus zal...  \\\n1  ze lag te slapen\\nk vroeg haar gisteravond\\nwa...   \n2  ik heb het goed gedaan\\nmaar ook zo fout gedaa...   \n3  zeg maar niets meer\\nik ga wel weg als je dat ...   \n4  ik sluit mn ogen en denk na\\nen alles gaat dan...   \n\n                                                test  \n0  kleine jongen\\nje bent op deze wereld\\ndus zal...  \n1  ze lag te slapen\\nk vroeg haar gisteravond\\nwa...  \n2  ik heb het goed gedaan\\nmaar ook zo fout gedaa...  \n3  zeg maar niets meer\\nik ga wel weg als je dat ...  \n4  ik sluit mn ogen en denk na\\nen alles gaat dan...  ",
      "text/html": "<div>\n<style scoped>\n    .dataframe tbody tr th:only-of-type {\n        vertical-align: middle;\n    }\n\n    .dataframe tbody tr th {\n        vertical-align: top;\n    }\n\n    .dataframe thead th {\n        text-align: right;\n    }\n</style>\n<table border=\"1\" class=\"dataframe\">\n  <thead>\n    <tr style=\"text-align: right;\">\n      <th></th>\n      <th>Unnamed: 0</th>\n      <th>artist</th>\n      <th>title</th>\n      <th>train</th>\n      <th>test</th>\n    </tr>\n  </thead>\n  <tbody>\n    <tr>\n      <th>0</th>\n      <td>0</td>\n      <td>André Hazes</td>\n      <td>Kleine Jongen</td>\n      <td>kleine jongen\\nje bent op deze wereld\\ndus zal...</td>\n      <td>kleine jongen\\nje bent op deze wereld\\ndus zal...</td>\n    </tr>\n    <tr>\n      <th>1</th>\n      <td>1</td>\n      <td>André Hazes</td>\n      <td>Zij Gelooft In Mij</td>\n      <td>ze lag te slapen\\nk vroeg haar gisteravond\\nwa...</td>\n      <td>ze lag te slapen\\nk vroeg haar gisteravond\\nwa...</td>\n    </tr>\n    <tr>\n      <th>2</th>\n      <td>2</td>\n      <td>André Hazes</td>\n      <td>Bloed, Zweet En Tranen</td>\n      <td>ik heb het goed gedaan\\nmaar ook zo fout gedaa...</td>\n      <td>ik heb het goed gedaan\\nmaar ook zo fout gedaa...</td>\n    </tr>\n    <tr>\n      <th>3</th>\n      <td>3</td>\n      <td>André Hazes</td>\n      <td>Zeg Maar Niets Meer</td>\n      <td>zeg maar niets meer\\nik ga wel weg als je dat ...</td>\n      <td>zeg maar niets meer\\nik ga wel weg als je dat ...</td>\n    </tr>\n    <tr>\n      <th>4</th>\n      <td>4</td>\n      <td>André Hazes</td>\n      <td>Ik Leef m’n Eigen Leven</td>\n      <td>ik sluit mn ogen en denk na\\nen alles gaat dan...</td>\n      <td>ik sluit mn ogen en denk na\\nen alles gaat dan...</td>\n    </tr>\n  </tbody>\n</table>\n</div>"
     },
     "execution_count": 100,
     "metadata": {},
     "output_type": "execute_result"
    }
   ],
   "source": [
    "dataset.head()"
   ],
   "metadata": {
    "collapsed": false,
    "ExecuteTime": {
     "start_time": "2023-04-13T22:39:37.643151Z",
     "end_time": "2023-04-13T22:39:37.659153Z"
    }
   }
  },
  {
   "cell_type": "code",
   "execution_count": 101,
   "outputs": [
    {
     "name": "stdout",
     "output_type": "stream",
     "text": [
      "<class 'pandas.core.frame.DataFrame'>\n",
      "RangeIndex: 2507 entries, 0 to 2506\n",
      "Data columns (total 5 columns):\n",
      " #   Column      Non-Null Count  Dtype \n",
      "---  ------      --------------  ----- \n",
      " 0   Unnamed: 0  2507 non-null   int64 \n",
      " 1   artist      2507 non-null   object\n",
      " 2   title       2507 non-null   object\n",
      " 3   train       2499 non-null   object\n",
      " 4   test        2499 non-null   object\n",
      "dtypes: int64(1), object(4)\n",
      "memory usage: 98.1+ KB\n"
     ]
    }
   ],
   "source": [
    "dataset.info()"
   ],
   "metadata": {
    "collapsed": false,
    "ExecuteTime": {
     "start_time": "2023-04-13T22:39:37.851535Z",
     "end_time": "2023-04-13T22:39:37.868538Z"
    }
   }
  },
  {
   "cell_type": "code",
   "execution_count": 102,
   "outputs": [
    {
     "data": {
      "text/plain": "artist\nAndré Hazes           284\nK3                    283\nBLØF                  205\nBoudewijn De Groot    188\nFrans Bauer           158\n                     ... \nHepie & hepie           1\nHein simons             1\nDouwe Bob               1\nHanny                   1\nRika jansen             1\nName: count, Length: 64, dtype: int64"
     },
     "execution_count": 102,
     "metadata": {},
     "output_type": "execute_result"
    }
   ],
   "source": [
    "dataset.artist.value_counts()"
   ],
   "metadata": {
    "collapsed": false,
    "ExecuteTime": {
     "start_time": "2023-04-13T22:39:38.073200Z",
     "end_time": "2023-04-13T22:39:38.093206Z"
    }
   }
  },
  {
   "cell_type": "code",
   "execution_count": 103,
   "outputs": [],
   "source": [
    "lyrical_data = dataset.drop(columns=[\"Unnamed: 0\", \"artist\", \"title\", \"test\"])"
   ],
   "metadata": {
    "collapsed": false,
    "ExecuteTime": {
     "start_time": "2023-04-13T22:39:38.342269Z",
     "end_time": "2023-04-13T22:39:38.354271Z"
    }
   }
  },
  {
   "cell_type": "code",
   "execution_count": 104,
   "outputs": [],
   "source": [
    "lyrical_data = lyrical_data.rename(columns={\"train\": \"lyrics\"})"
   ],
   "metadata": {
    "collapsed": false,
    "ExecuteTime": {
     "start_time": "2023-04-13T22:39:38.736132Z",
     "end_time": "2023-04-13T22:39:38.750136Z"
    }
   }
  },
  {
   "cell_type": "code",
   "execution_count": 105,
   "outputs": [
    {
     "data": {
      "text/plain": "                                              lyrics\n0  kleine jongen\\nje bent op deze wereld\\ndus zal...\n1  ze lag te slapen\\nk vroeg haar gisteravond\\nwa...\n2  ik heb het goed gedaan\\nmaar ook zo fout gedaa...\n3  zeg maar niets meer\\nik ga wel weg als je dat ...\n4  ik sluit mn ogen en denk na\\nen alles gaat dan...",
      "text/html": "<div>\n<style scoped>\n    .dataframe tbody tr th:only-of-type {\n        vertical-align: middle;\n    }\n\n    .dataframe tbody tr th {\n        vertical-align: top;\n    }\n\n    .dataframe thead th {\n        text-align: right;\n    }\n</style>\n<table border=\"1\" class=\"dataframe\">\n  <thead>\n    <tr style=\"text-align: right;\">\n      <th></th>\n      <th>lyrics</th>\n    </tr>\n  </thead>\n  <tbody>\n    <tr>\n      <th>0</th>\n      <td>kleine jongen\\nje bent op deze wereld\\ndus zal...</td>\n    </tr>\n    <tr>\n      <th>1</th>\n      <td>ze lag te slapen\\nk vroeg haar gisteravond\\nwa...</td>\n    </tr>\n    <tr>\n      <th>2</th>\n      <td>ik heb het goed gedaan\\nmaar ook zo fout gedaa...</td>\n    </tr>\n    <tr>\n      <th>3</th>\n      <td>zeg maar niets meer\\nik ga wel weg als je dat ...</td>\n    </tr>\n    <tr>\n      <th>4</th>\n      <td>ik sluit mn ogen en denk na\\nen alles gaat dan...</td>\n    </tr>\n  </tbody>\n</table>\n</div>"
     },
     "execution_count": 105,
     "metadata": {},
     "output_type": "execute_result"
    }
   ],
   "source": [
    "lyrical_data.head()"
   ],
   "metadata": {
    "collapsed": false,
    "ExecuteTime": {
     "start_time": "2023-04-13T22:39:39.144906Z",
     "end_time": "2023-04-13T22:39:39.158064Z"
    }
   }
  },
  {
   "cell_type": "code",
   "execution_count": 106,
   "outputs": [
    {
     "name": "stdout",
     "output_type": "stream",
     "text": [
      "<class 'pandas.core.frame.DataFrame'>\n",
      "RangeIndex: 2507 entries, 0 to 2506\n",
      "Data columns (total 1 columns):\n",
      " #   Column  Non-Null Count  Dtype \n",
      "---  ------  --------------  ----- \n",
      " 0   lyrics  2499 non-null   object\n",
      "dtypes: object(1)\n",
      "memory usage: 19.7+ KB\n"
     ]
    }
   ],
   "source": [
    "lyrical_data.info()"
   ],
   "metadata": {
    "collapsed": false,
    "ExecuteTime": {
     "start_time": "2023-04-13T22:39:39.507288Z",
     "end_time": "2023-04-13T22:39:39.522295Z"
    }
   }
  },
  {
   "cell_type": "code",
   "execution_count": 107,
   "outputs": [],
   "source": [
    "lyrical_data = lyrical_data.astype(\"string\")"
   ],
   "metadata": {
    "collapsed": false,
    "ExecuteTime": {
     "start_time": "2023-04-13T22:39:40.141892Z",
     "end_time": "2023-04-13T22:39:40.156402Z"
    }
   }
  },
  {
   "cell_type": "code",
   "execution_count": 108,
   "outputs": [
    {
     "name": "stdout",
     "output_type": "stream",
     "text": [
      "<class 'pandas.core.frame.DataFrame'>\n",
      "RangeIndex: 2507 entries, 0 to 2506\n",
      "Data columns (total 1 columns):\n",
      " #   Column  Non-Null Count  Dtype \n",
      "---  ------  --------------  ----- \n",
      " 0   lyrics  2499 non-null   string\n",
      "dtypes: string(1)\n",
      "memory usage: 19.7 KB\n"
     ]
    }
   ],
   "source": [
    "lyrical_data.info()"
   ],
   "metadata": {
    "collapsed": false,
    "ExecuteTime": {
     "start_time": "2023-04-13T22:39:40.776254Z",
     "end_time": "2023-04-13T22:39:40.794258Z"
    }
   }
  },
  {
   "cell_type": "code",
   "execution_count": 109,
   "outputs": [],
   "source": [
    "lyrical_data.to_csv(r\"./lyrics_2500.csv\", index=False)"
   ],
   "metadata": {
    "collapsed": false,
    "ExecuteTime": {
     "start_time": "2023-04-13T22:39:41.460999Z",
     "end_time": "2023-04-13T22:39:41.523019Z"
    }
   }
  },
  {
   "cell_type": "code",
   "execution_count": null,
   "outputs": [],
   "source": [],
   "metadata": {
    "collapsed": false
   }
  }
 ],
 "metadata": {
  "kernelspec": {
   "display_name": "Python 3",
   "language": "python",
   "name": "python3"
  },
  "language_info": {
   "codemirror_mode": {
    "name": "ipython",
    "version": 2
   },
   "file_extension": ".py",
   "mimetype": "text/x-python",
   "name": "python",
   "nbconvert_exporter": "python",
   "pygments_lexer": "ipython2",
   "version": "2.7.6"
  }
 },
 "nbformat": 4,
 "nbformat_minor": 0
}
