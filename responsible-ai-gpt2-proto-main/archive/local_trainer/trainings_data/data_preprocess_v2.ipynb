{
 "cells": [
  {
   "cell_type": "code",
   "execution_count": 1,
   "metadata": {},
   "outputs": [],
   "source": [
    "import pandas\n",
    "import re"
   ]
  },
  {
   "cell_type": "code",
   "execution_count": 2,
   "metadata": {},
   "outputs": [
    {
     "name": "stdout",
     "output_type": "stream",
     "text": [
      "<class 'pandas.core.frame.DataFrame'>\n",
      "RangeIndex: 2956 entries, 0 to 2955\n",
      "Data columns (total 1 columns):\n",
      " #   Column                  Non-Null Count  Dtype \n",
      "---  ------                  --------------  ----- \n",
      " 0   genius_smart_collector  2956 non-null   string\n",
      "dtypes: string(1)\n",
      "memory usage: 23.2 KB\n"
     ]
    }
   ],
   "source": [
    "# Load genius data \n",
    "genius_data = pandas.read_csv(\"./genius_2956.csv\").dropna().astype(\"string\")\n",
    "\n",
    "genius_data.info()"
   ]
  },
  {
   "cell_type": "code",
   "execution_count": 3,
   "metadata": {},
   "outputs": [
    {
     "name": "stdout",
     "output_type": "stream",
     "text": [
      "<class 'pandas.core.frame.DataFrame'>\n",
      "RangeIndex: 6871 entries, 0 to 6870\n",
      "Data columns (total 3 columns):\n",
      " #   Column               Non-Null Count  Dtype \n",
      "---  ------               --------------  ----- \n",
      " 0   dutch_short_stories  556 non-null    string\n",
      " 1   1001_stories         805 non-null    string\n",
      " 2   1001_gedichten       6871 non-null   string\n",
      "dtypes: string(3)\n",
      "memory usage: 161.2 KB\n"
     ]
    }
   ],
   "source": [
    "# Load short stories data\n",
    "short_stories_data = pandas.read_csv(\"./scraper_600_600_25.csv\").astype(\"string\")\n",
    "\n",
    "short_stories_data.info()"
   ]
  },
  {
   "cell_type": "code",
   "execution_count": 4,
   "metadata": {},
   "outputs": [],
   "source": [
    "# Split into dutch_short_stories, 1001_stories and 1001_poems datasets\n",
    "dutch_short_stories = short_stories_data[\"dutch_short_stories\"]\n",
    "stories_1001 = short_stories_data[\"1001_stories\"]\n",
    "poems_1001 = short_stories_data[\"1001_gedichten\"]"
   ]
  },
  {
   "cell_type": "code",
   "execution_count": 5,
   "metadata": {},
   "outputs": [],
   "source": [
    "def capitalize_after_empty_or_newline(text):\n",
    "    lines = re.split(r'(\\n)', text)\n",
    "    capitalized_lines = [line.capitalize() if line.strip() else line for line in lines]\n",
    "    \n",
    "    return ''.join(capitalized_lines)\n"
   ]
  },
  {
   "cell_type": "code",
   "execution_count": 6,
   "metadata": {},
   "outputs": [
    {
     "data": {
      "text/html": [
       "<div>\n",
       "<style scoped>\n",
       "    .dataframe tbody tr th:only-of-type {\n",
       "        vertical-align: middle;\n",
       "    }\n",
       "\n",
       "    .dataframe tbody tr th {\n",
       "        vertical-align: top;\n",
       "    }\n",
       "\n",
       "    .dataframe thead th {\n",
       "        text-align: right;\n",
       "    }\n",
       "</style>\n",
       "<table border=\"1\" class=\"dataframe\">\n",
       "  <thead>\n",
       "    <tr style=\"text-align: right;\">\n",
       "      <th></th>\n",
       "      <th>genius_smart_collector</th>\n",
       "    </tr>\n",
       "  </thead>\n",
       "  <tbody>\n",
       "    <tr>\n",
       "      <th>0</th>\n",
       "      <td>Kleine jongen\\nJe bent op deze wereld\\nDus zal...</td>\n",
       "    </tr>\n",
       "    <tr>\n",
       "      <th>1</th>\n",
       "      <td>Ze lag te slapen\\nK vroeg haar gisteravond\\nWa...</td>\n",
       "    </tr>\n",
       "    <tr>\n",
       "      <th>2</th>\n",
       "      <td>Ik heb het goed gedaan\\nMaar ook zo fout gedaa...</td>\n",
       "    </tr>\n",
       "    <tr>\n",
       "      <th>3</th>\n",
       "      <td>Zeg maar niets meer\\nIk ga wel weg als je dat ...</td>\n",
       "    </tr>\n",
       "    <tr>\n",
       "      <th>4</th>\n",
       "      <td>Ik sluit mn ogen en denk na\\nEn alles gaat dan...</td>\n",
       "    </tr>\n",
       "  </tbody>\n",
       "</table>\n",
       "</div>"
      ],
      "text/plain": [
       "                              genius_smart_collector\n",
       "0  Kleine jongen\\nJe bent op deze wereld\\nDus zal...\n",
       "1  Ze lag te slapen\\nK vroeg haar gisteravond\\nWa...\n",
       "2  Ik heb het goed gedaan\\nMaar ook zo fout gedaa...\n",
       "3  Zeg maar niets meer\\nIk ga wel weg als je dat ...\n",
       "4  Ik sluit mn ogen en denk na\\nEn alles gaat dan..."
      ]
     },
     "execution_count": 6,
     "metadata": {},
     "output_type": "execute_result"
    }
   ],
   "source": [
    "# Capitalize first letter of each line in genius data\n",
    "genius_data[\"genius_smart_collector\"] = genius_data[\"genius_smart_collector\"].apply(capitalize_after_empty_or_newline)\n",
    "\n",
    "genius_data.head()"
   ]
  },
  {
   "cell_type": "code",
   "execution_count": 7,
   "metadata": {},
   "outputs": [
    {
     "name": "stdout",
     "output_type": "stream",
     "text": [
      "<class 'pandas.core.series.Series'>\n",
      "Int64Index: 548 entries, 0 to 555\n",
      "Series name: dutch_short_stories\n",
      "Non-Null Count  Dtype \n",
      "--------------  ----- \n",
      "548 non-null    string\n",
      "dtypes: string(1)\n",
      "memory usage: 8.6 KB\n",
      "None\n",
      "\n",
      "<class 'pandas.core.series.Series'>\n",
      "Int64Index: 799 entries, 0 to 804\n",
      "Series name: 1001_stories\n",
      "Non-Null Count  Dtype \n",
      "--------------  ----- \n",
      "799 non-null    string\n",
      "dtypes: string(1)\n",
      "memory usage: 12.5 KB\n",
      "None\n",
      "\n",
      "<class 'pandas.core.series.Series'>\n",
      "Int64Index: 6161 entries, 0 to 6869\n",
      "Series name: 1001_gedichten\n",
      "Non-Null Count  Dtype \n",
      "--------------  ----- \n",
      "6161 non-null   string\n",
      "dtypes: string(1)\n",
      "memory usage: 96.3 KB\n",
      "None\n"
     ]
    }
   ],
   "source": [
    "# Remove short stories shorter than 200 characters for every short story dataset\n",
    "dutch_short_stories = dutch_short_stories[dutch_short_stories.str.len() > 200]\n",
    "stories_1001 = stories_1001[stories_1001.str.len() > 200]\n",
    "poems_1001 = poems_1001[poems_1001.str.len() > 200]\n",
    "\n",
    "print(f\"{dutch_short_stories.info()}\\n\")\n",
    "print(f\"{stories_1001.info()}\\n\")\n",
    "print(poems_1001.info())"
   ]
  },
  {
   "cell_type": "code",
   "execution_count": 8,
   "metadata": {},
   "outputs": [],
   "source": [
    "def shorten_story(story):\n",
    "    if len(story) <= 2400:\n",
    "        return story\n",
    "    else:\n",
    "        truncated_story = story[:2400]\n",
    "        if truncated_story[-1] == '\\n':\n",
    "            return truncated_story\n",
    "        else:\n",
    "            last_newline_index = truncated_story.rfind('\\n')\n",
    "            if last_newline_index != -1:\n",
    "                return truncated_story[:last_newline_index]\n",
    "            else:\n",
    "                return truncated_story\n"
   ]
  },
  {
   "cell_type": "code",
   "execution_count": 9,
   "metadata": {},
   "outputs": [
    {
     "name": "stdout",
     "output_type": "stream",
     "text": [
      "Average length of dutch_short_stories: 1781.1259124087592\n",
      "Average length of stories_1001: 5514.879849812265\n",
      "Average length of poems_1001: 521.729751663691\n",
      "Average length of genius_smart_collector: 1183.3132611637348\n",
      "\n",
      "Max length of dutch_short_stories: 6554\n",
      "Max length of stories_1001: 64542\n",
      "Max length of poems_1001: 7314\n",
      "Max length of genius_smart_collector: 8438\n"
     ]
    }
   ],
   "source": [
    "# Print average length of each dataset\n",
    "print(f\"Average length of dutch_short_stories: {dutch_short_stories.str.len().mean()}\")\n",
    "print(f\"Average length of stories_1001: {stories_1001.str.len().mean()}\")\n",
    "print(f\"Average length of poems_1001: {poems_1001.str.len().mean()}\")\n",
    "print(f\"Average length of genius_smart_collector: {genius_data['genius_smart_collector'].str.len().mean()}\\n\")\n",
    "\n",
    "# Print max length of each dataset\n",
    "print(f\"Max length of dutch_short_stories: {dutch_short_stories.str.len().max()}\")\n",
    "print(f\"Max length of stories_1001: {stories_1001.str.len().max()}\")\n",
    "print(f\"Max length of poems_1001: {poems_1001.str.len().max()}\")\n",
    "print(f\"Max length of genius_smart_collector: {genius_data['genius_smart_collector'].str.len().max()}\")"
   ]
  },
  {
   "cell_type": "code",
   "execution_count": 10,
   "metadata": {},
   "outputs": [
    {
     "name": "stdout",
     "output_type": "stream",
     "text": [
      "Max length dutch_short_stories: 2400\n",
      "Max length stories_1001: 2400\n",
      "Max length poems_1001: 2400\n"
     ]
    }
   ],
   "source": [
    "# Apply shorten_story to all short story datasets\n",
    "dutch_short_stories = dutch_short_stories.apply(shorten_story)\n",
    "stories_1001 = stories_1001.apply(shorten_story)\n",
    "poems_1001 = poems_1001.apply(shorten_story)\n",
    "\n",
    "# Print max length of each dataset\n",
    "print(f\"Max length dutch_short_stories: {dutch_short_stories.str.len().max()}\")\n",
    "print(f\"Max length stories_1001: {stories_1001.str.len().max()}\")\n",
    "print(f\"Max length poems_1001: {poems_1001.str.len().max()}\")"
   ]
  },
  {
   "cell_type": "code",
   "execution_count": 11,
   "metadata": {},
   "outputs": [
    {
     "name": "stderr",
     "output_type": "stream",
     "text": [
      "/tmp/ipykernel_646753/121005433.py:2: FutureWarning: The default value of regex will change from True to False in a future version.\n",
      "  dutch_short_stories = dutch_short_stories.str.replace('\\d+', '')\n",
      "/tmp/ipykernel_646753/121005433.py:3: FutureWarning: The default value of regex will change from True to False in a future version.\n",
      "  stories_1001 = stories_1001.str.replace('\\d+', '')\n",
      "/tmp/ipykernel_646753/121005433.py:4: FutureWarning: The default value of regex will change from True to False in a future version.\n",
      "  poems_1001 = poems_1001.str.replace('\\d+', '')\n"
     ]
    }
   ],
   "source": [
    "# Remove all numbers from the stories and poems\n",
    "dutch_short_stories = dutch_short_stories.str.replace('\\d+', '')\n",
    "stories_1001 = stories_1001.str.replace('\\d+', '')\n",
    "poems_1001 = poems_1001.str.replace('\\d+', '')\n",
    "\n",
    "# Capitalize first letter of each line in all short story datasets\n",
    "dutch_short_stories = dutch_short_stories.apply(capitalize_after_empty_or_newline)\n",
    "stories_1001 = stories_1001.apply(capitalize_after_empty_or_newline)\n",
    "poems_1001 = poems_1001.apply(capitalize_after_empty_or_newline)"
   ]
  },
  {
   "cell_type": "code",
   "execution_count": 12,
   "metadata": {},
   "outputs": [
    {
     "name": "stdout",
     "output_type": "stream",
     "text": [
      "<class 'pandas.core.series.Series'>\n",
      "Int64Index: 1347 entries, 0 to 804\n",
      "Series name: None\n",
      "Non-Null Count  Dtype \n",
      "--------------  ----- \n",
      "1347 non-null   string\n",
      "dtypes: string(1)\n",
      "memory usage: 21.0 KB\n"
     ]
    }
   ],
   "source": [
    "# Concat all short story datasets into one dataset\n",
    "short_stories = pandas.concat([dutch_short_stories, stories_1001]).astype(\"string\")\n",
    "\n",
    "short_stories.info()"
   ]
  },
  {
   "cell_type": "code",
   "execution_count": 13,
   "metadata": {},
   "outputs": [],
   "source": [
    "# Save short stories dataset to csv\n",
    "short_stories.to_csv(\"./short_stories_1347.csv\", index=False)\n",
    "\n",
    "# Save poems dataset to csv\n",
    "poems_1001.to_csv(\"./gedichten_6161.csv\", index=False)\n",
    "\n",
    "# Save genius dataset to csv\n",
    "genius_data.to_csv(\"./genius_data_2956.csv\", index=False)"
   ]
  },
  {
   "cell_type": "code",
   "execution_count": 14,
   "metadata": {},
   "outputs": [
    {
     "name": "stdout",
     "output_type": "stream",
     "text": [
      "<class 'pandas.core.series.Series'>\n",
      "Int64Index: 10464 entries, 0 to 2955\n",
      "Series name: None\n",
      "Non-Null Count  Dtype \n",
      "--------------  ----- \n",
      "10464 non-null  string\n",
      "dtypes: string(1)\n",
      "memory usage: 163.5 KB\n"
     ]
    }
   ],
   "source": [
    "# Save as one big dataset\n",
    "all_data = pandas.concat([short_stories, poems_1001, genius_data[\"genius_smart_collector\"]]).astype(\"string\")\n",
    "\n",
    "all_data.info()"
   ]
  },
  {
   "cell_type": "code",
   "execution_count": 15,
   "metadata": {},
   "outputs": [],
   "source": [
    "# Save all data to csv\n",
    "all_data.to_csv(\"./all_data_10464.csv\", index=False)"
   ]
  }
 ],
 "metadata": {
  "kernelspec": {
   "display_name": ".venv",
   "language": "python",
   "name": "python3"
  },
  "language_info": {
   "codemirror_mode": {
    "name": "ipython",
    "version": 3
   },
   "file_extension": ".py",
   "mimetype": "text/x-python",
   "name": "python",
   "nbconvert_exporter": "python",
   "pygments_lexer": "ipython3",
   "version": "3.10.10"
  },
  "orig_nbformat": 4
 },
 "nbformat": 4,
 "nbformat_minor": 2
}
