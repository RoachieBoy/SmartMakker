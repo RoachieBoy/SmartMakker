{
 "cells": [
  {
   "cell_type": "code",
   "execution_count": 74,
   "metadata": {},
   "outputs": [],
   "source": [
    "import pandas"
   ]
  },
  {
   "cell_type": "code",
   "execution_count": 75,
   "metadata": {},
   "outputs": [],
   "source": [
    "data = pandas.read_csv('./lyrics_400_400_200_25.csv')"
   ]
  },
  {
   "cell_type": "code",
   "execution_count": 76,
   "metadata": {},
   "outputs": [
    {
     "name": "stdout",
     "output_type": "stream",
     "text": [
      "<class 'pandas.core.frame.DataFrame'>\n",
      "RangeIndex: 5312 entries, 0 to 5311\n",
      "Data columns (total 4 columns):\n",
      " #   Column                     Non-Null Count  Dtype \n",
      "---  ------                     --------------  ----- \n",
      " 0   dutch_short_stories        370 non-null    object\n",
      " 1   depression_1001_stories    746 non-null    object\n",
      " 2   depression_1001_gedichten  4716 non-null   object\n",
      " 3   genius_smart_collector     5312 non-null   object\n",
      "dtypes: object(4)\n",
      "memory usage: 166.1+ KB\n"
     ]
    }
   ],
   "source": [
    "data.info()"
   ]
  },
  {
   "cell_type": "code",
   "execution_count": 77,
   "metadata": {},
   "outputs": [],
   "source": [
    "dutch_short_stories = data['dutch_short_stories'].dropna().astype('string')\n",
    "depression_1001_stories = data['depression_1001_stories'].dropna().astype('string')\n",
    "depression_1001_gedichten = data['depression_1001_gedichten'].dropna().astype('string')\n",
    "genius_smart_collector = data['genius_smart_collector'].dropna().astype('string')"
   ]
  },
  {
   "cell_type": "code",
   "execution_count": 78,
   "metadata": {},
   "outputs": [
    {
     "name": "stdout",
     "output_type": "stream",
     "text": [
      "<class 'pandas.core.series.Series'>\n",
      "Index: 370 entries, 0 to 369\n",
      "Series name: dutch_short_stories\n",
      "Non-Null Count  Dtype \n",
      "--------------  ----- \n",
      "370 non-null    string\n",
      "dtypes: string(1)\n",
      "memory usage: 5.8 KB\n"
     ]
    }
   ],
   "source": [
    "dutch_short_stories.info()"
   ]
  },
  {
   "cell_type": "code",
   "execution_count": 79,
   "metadata": {},
   "outputs": [
    {
     "name": "stdout",
     "output_type": "stream",
     "text": [
      "<class 'pandas.core.series.Series'>\n",
      "Index: 746 entries, 0 to 745\n",
      "Series name: depression_1001_stories\n",
      "Non-Null Count  Dtype \n",
      "--------------  ----- \n",
      "746 non-null    string\n",
      "dtypes: string(1)\n",
      "memory usage: 11.7 KB\n"
     ]
    }
   ],
   "source": [
    "depression_1001_stories.info()"
   ]
  },
  {
   "cell_type": "code",
   "execution_count": 80,
   "metadata": {},
   "outputs": [
    {
     "name": "stdout",
     "output_type": "stream",
     "text": [
      "<class 'pandas.core.series.Series'>\n",
      "Index: 4716 entries, 0 to 4715\n",
      "Series name: depression_1001_gedichten\n",
      "Non-Null Count  Dtype \n",
      "--------------  ----- \n",
      "4716 non-null   string\n",
      "dtypes: string(1)\n",
      "memory usage: 73.7 KB\n"
     ]
    }
   ],
   "source": [
    "depression_1001_gedichten.info()"
   ]
  },
  {
   "cell_type": "code",
   "execution_count": 81,
   "metadata": {},
   "outputs": [
    {
     "name": "stdout",
     "output_type": "stream",
     "text": [
      "<class 'pandas.core.series.Series'>\n",
      "Index: 5312 entries, 0 to 5311\n",
      "Series name: genius_smart_collector\n",
      "Non-Null Count  Dtype \n",
      "--------------  ----- \n",
      "5312 non-null   string\n",
      "dtypes: string(1)\n",
      "memory usage: 83.0 KB\n"
     ]
    }
   ],
   "source": [
    "genius_smart_collector.info()"
   ]
  },
  {
   "cell_type": "code",
   "execution_count": 82,
   "metadata": {},
   "outputs": [
    {
     "name": "stdout",
     "output_type": "stream",
     "text": [
      "<class 'pandas.core.series.Series'>\n",
      "RangeIndex: 1116 entries, 0 to 1115\n",
      "Series name: None\n",
      "Non-Null Count  Dtype \n",
      "--------------  ----- \n",
      "1116 non-null   string\n",
      "dtypes: string(1)\n",
      "memory usage: 8.8 KB\n"
     ]
    }
   ],
   "source": [
    "short_stories = pandas.concat([dutch_short_stories, depression_1001_stories], ignore_index=True)\n",
    "\n",
    "short_stories.info()"
   ]
  },
  {
   "cell_type": "code",
   "execution_count": 83,
   "metadata": {},
   "outputs": [],
   "source": [
    "short_stories.to_csv(f'./short_stories_{len(short_stories)}.csv', index=False)\n",
    "depression_1001_gedichten.to_csv(f'./depression_1001_gedichten_{len(depression_1001_gedichten)}.csv', index=False)\n",
    "genius_smart_collector.to_csv(f'./genius_smart_collector_{len(genius_smart_collector)}.csv', index=False)"
   ]
  }
 ],
 "metadata": {
  "kernelspec": {
   "display_name": "model",
   "language": "python",
   "name": "python3"
  },
  "language_info": {
   "codemirror_mode": {
    "name": "ipython",
    "version": 3
   },
   "file_extension": ".py",
   "mimetype": "text/x-python",
   "name": "python",
   "nbconvert_exporter": "python",
   "pygments_lexer": "ipython3",
   "version": "3.11.3"
  },
  "orig_nbformat": 4
 },
 "nbformat": 4,
 "nbformat_minor": 2
}
