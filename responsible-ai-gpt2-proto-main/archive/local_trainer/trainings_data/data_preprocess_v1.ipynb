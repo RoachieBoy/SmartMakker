{
 "cells": [
  {
   "cell_type": "code",
   "execution_count": 23,
   "metadata": {},
   "outputs": [],
   "source": [
    "import pandas"
   ]
  },
  {
   "cell_type": "code",
   "execution_count": 24,
   "metadata": {},
   "outputs": [
    {
     "name": "stdout",
     "output_type": "stream",
     "text": [
      "<class 'pandas.core.frame.DataFrame'>\n",
      "Index: 2956 entries, 0 to 3790\n",
      "Data columns (total 1 columns):\n",
      " #   Column                  Non-Null Count  Dtype \n",
      "---  ------                  --------------  ----- \n",
      " 0   genius_smart_collector  2956 non-null   string\n",
      "dtypes: string(1)\n",
      "memory usage: 46.2 KB\n"
     ]
    }
   ],
   "source": [
    "# Load genius data \n",
    "genius_data = pandas.read_csv(\"./genius.csv\").dropna().astype(\"string\")\n",
    "\n",
    "genius_data.info()"
   ]
  },
  {
   "cell_type": "code",
   "execution_count": 25,
   "metadata": {},
   "outputs": [
    {
     "name": "stdout",
     "output_type": "stream",
     "text": [
      "<class 'pandas.core.frame.DataFrame'>\n",
      "RangeIndex: 751 entries, 0 to 750\n",
      "Data columns (total 2 columns):\n",
      " #   Column                   Non-Null Count  Dtype \n",
      "---  ------                   --------------  ----- \n",
      " 0   dutch_short_stories      371 non-null    object\n",
      " 1   depression_1001_stories  746 non-null    object\n",
      "dtypes: object(2)\n",
      "memory usage: 11.9+ KB\n"
     ]
    }
   ],
   "source": [
    "# Load short stories data\n",
    "short_stories_data = pandas.read_csv(\"./short_stories.csv\")\n",
    "\n",
    "short_stories_data.info()"
   ]
  },
  {
   "cell_type": "code",
   "execution_count": 29,
   "metadata": {},
   "outputs": [],
   "source": [
    "# Split data into dutch_short_stories set and depression_1001_stories set\n",
    "dutch_short_stories = short_stories_data[\"dutch_short_stories\"]\n",
    "depression_1001_stories = short_stories_data[\"depression_1001_stories\"]"
   ]
  },
  {
   "cell_type": "code",
   "execution_count": 33,
   "metadata": {},
   "outputs": [
    {
     "name": "stdout",
     "output_type": "stream",
     "text": [
      "<class 'pandas.core.series.Series'>\n",
      "Index: 371 entries, 0 to 399\n",
      "Series name: dutch_short_stories\n",
      "Non-Null Count  Dtype \n",
      "--------------  ----- \n",
      "371 non-null    string\n",
      "dtypes: string(1)\n",
      "memory usage: 5.8 KB\n"
     ]
    }
   ],
   "source": [
    "dutch_short_stories = dutch_short_stories.dropna().astype(\"string\")\n",
    "\n",
    "dutch_short_stories.info()"
   ]
  },
  {
   "cell_type": "code",
   "execution_count": 34,
   "metadata": {},
   "outputs": [
    {
     "name": "stdout",
     "output_type": "stream",
     "text": [
      "<class 'pandas.core.series.Series'>\n",
      "Index: 746 entries, 0 to 750\n",
      "Series name: depression_1001_stories\n",
      "Non-Null Count  Dtype \n",
      "--------------  ----- \n",
      "746 non-null    string\n",
      "dtypes: string(1)\n",
      "memory usage: 11.7 KB\n"
     ]
    }
   ],
   "source": [
    "depression_1001_stories = depression_1001_stories.dropna().astype(\"string\")\n",
    "\n",
    "depression_1001_stories.info()"
   ]
  },
  {
   "cell_type": "code",
   "execution_count": 37,
   "metadata": {},
   "outputs": [
    {
     "name": "stdout",
     "output_type": "stream",
     "text": [
      "<class 'pandas.core.series.Series'>\n",
      "Index: 1117 entries, 0 to 750\n",
      "Series name: None\n",
      "Non-Null Count  Dtype \n",
      "--------------  ----- \n",
      "1117 non-null   string\n",
      "dtypes: string(1)\n",
      "memory usage: 17.5 KB\n"
     ]
    }
   ],
   "source": [
    "# Create new dataframe containing all short stories\n",
    "short_story_trainings_data = pandas.concat([dutch_short_stories, depression_1001_stories])\n",
    "\n",
    "short_story_trainings_data.info()"
   ]
  },
  {
   "cell_type": "code",
   "execution_count": null,
   "metadata": {},
   "outputs": [],
   "source": [
    "# Save short stories to csv with the lenght in the title\n",
    "short_story_trainings_data.to_csv(\"./short_stories_1117.csv\", index=False)\n",
    "\n",
    "# Save genius data to csv with the lenght in the title\n",
    "genius_data.to_csv(\"./genius_2956.csv\", index=False)"
   ]
  }
 ],
 "metadata": {
  "kernelspec": {
   "display_name": ".venv",
   "language": "python",
   "name": "python3"
  },
  "language_info": {
   "codemirror_mode": {
    "name": "ipython",
    "version": 3
   },
   "file_extension": ".py",
   "mimetype": "text/x-python",
   "name": "python",
   "nbconvert_exporter": "python",
   "pygments_lexer": "ipython3",
   "version": "3.10.11"
  },
  "orig_nbformat": 4
 },
 "nbformat": 4,
 "nbformat_minor": 2
}
