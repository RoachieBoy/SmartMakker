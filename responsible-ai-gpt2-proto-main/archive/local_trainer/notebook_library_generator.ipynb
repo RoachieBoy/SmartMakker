{
 "cells": [
  {
   "cell_type": "code",
   "execution_count": null,
   "metadata": {
    "ExecuteTime": {
     "end_time": "2023-05-11T23:26:45.711548Z",
     "start_time": "2023-05-11T23:26:44.615927Z"
    },
    "collapsed": true
   },
   "outputs": [],
   "source": [
    "from generative_ai.generators.hugging_face_generator import HuggingFaceGenerator"
   ]
  },
  {
   "cell_type": "code",
   "execution_count": null,
   "metadata": {
    "ExecuteTime": {
     "end_time": "2023-05-11T23:26:47.183289Z",
     "start_time": "2023-05-11T23:26:45.712069Z"
    },
    "collapsed": false
   },
   "outputs": [],
   "source": [
    "pipeline = HuggingFaceGenerator(\"./output\")"
   ]
  },
  {
   "cell_type": "code",
   "execution_count": null,
   "metadata": {
    "ExecuteTime": {
     "end_time": "2023-05-11T23:33:03.069551Z",
     "start_time": "2023-05-11T23:32:58.113043Z"
    },
    "collapsed": false
   },
   "outputs": [],
   "source": [
    "text = pipeline.generate_single_prompt(\n",
    "    \"kleine jongen\\nje bent op deze wereld\\ndus zal je moeten vechten net als ik\",\n",
    "    max_length=250,\n",
    "    min_length=10,\n",
    "    temperature=0.9,\n",
    "    top_k=50,\n",
    "    top_p=0.9,\n",
    "    repetition_penalty=1.2,\n",
    "    no_repeat_ngram_size=3\n",
    ")\n",
    "\n",
    "print(text)"
   ]
  },
  {
   "cell_type": "code",
   "execution_count": null,
   "metadata": {},
   "outputs": [],
   "source": [
    "from transformers import pipeline, AutoConfig, AutoTokenizer, AutoModelForCausalLM\n",
    "\n",
    "\n",
    "\n",
    "generator = pipeline(\n",
    "  'text-generation',\n",
    "  model=AutoModelForCausalLM.from_pretrained(\"./output_transformers/checkpoint-6500\"),\n",
    "  tokenizer=AutoTokenizer.from_pretrained(\"yhavinga/gpt2-medium-dutch\"),\n",
    "  config=AutoConfig.from_pretrained(\"./output_transformers/checkpoint-6500\"),\n",
    "  device='cuda:0'\n",
    ")\n",
    "\n",
    "print(\n",
    "    generator(\n",
    "      \"Leuk je te ontmoeten, waar ben je geweest?\\n\"\n",
    "      \"Ik zou je ongelofelijke dingen kunnen laten zien\\n\"\n",
    "      \"Magie, gekte, hemel, zonde\\n\"\n",
    "      \"Zag je daar en ik dacht\\n\"\n",
    "      \"“Oh mijn God, kijk naar dat gezicht\\n\"\n",
    "      \"Jij ziet eruit als mijn volgende fout\\n\"\n",
    "      \"Liefde is een spel, wil je spelen?”, zei ik\\n\",\n",
    "      min_length=100,\n",
    "      max_length=500,\n",
    "      temperature=0.9,\n",
    "      top_k=50,\n",
    "      top_p=0.96,\n",
    "      repetition_penalty=1\n",
    "  )[0][\"generated_text\"]\n",
    ")"
   ]
  }
 ],
 "metadata": {
  "kernelspec": {
   "display_name": "Python 3",
   "language": "python",
   "name": "python3"
  },
  "language_info": {
   "codemirror_mode": {
    "name": "ipython",
    "version": 3
   },
   "file_extension": ".py",
   "mimetype": "text/x-python",
   "name": "python",
   "nbconvert_exporter": "python",
   "pygments_lexer": "ipython3",
   "version": "3.11.3"
  }
 },
 "nbformat": 4,
 "nbformat_minor": 0
}
