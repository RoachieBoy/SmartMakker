{
 "cells": [
  {
   "attachments": {},
   "cell_type": "markdown",
   "metadata": {
    "collapsed": false
   },
   "source": [
    "# Web-app Demo of 14th April"
   ]
  },
  {
   "cell_type": "code",
   "execution_count": 1,
   "metadata": {
    "collapsed": true,
    "ExecuteTime": {
     "end_time": "2023-06-05T10:54:50.985171Z",
     "start_time": "2023-06-05T10:54:47.134488Z"
    }
   },
   "outputs": [],
   "source": [
    "import gradio\n",
    "\n",
    "from generative_ai.generators.hugging_face_generator import HuggingFaceGenerator\n",
    "from lyrics_gen.generator import LyricsGen\n",
    "\n",
    "model_folder = \"./model_to_use\""
   ]
  },
  {
   "attachments": {},
   "cell_type": "markdown",
   "metadata": {
    "collapsed": false
   },
   "source": [
    "Setup Backend"
   ]
  },
  {
   "cell_type": "code",
   "execution_count": 2,
   "metadata": {
    "collapsed": false,
    "ExecuteTime": {
     "end_time": "2023-06-05T10:54:52.528933Z",
     "start_time": "2023-06-05T10:54:50.985815Z"
    }
   },
   "outputs": [
    {
     "name": "stderr",
     "output_type": "stream",
     "text": [
      "Xformers is not installed correctly. If you want to use memorry_efficient_attention to accelerate training use the following command to install Xformers\n",
      "pip install xformers.\n"
     ]
    }
   ],
   "source": [
    "backend = HuggingFaceGenerator(model_folder)\n",
    "generator = LyricsGen(text_gen_backend=backend.generate_single_prompt)"
   ]
  },
  {
   "attachments": {},
   "cell_type": "markdown",
   "metadata": {
    "collapsed": false
   },
   "source": [
    "Setup Web-app"
   ]
  },
  {
   "cell_type": "code",
   "execution_count": 3,
   "metadata": {
    "collapsed": false,
    "ExecuteTime": {
     "end_time": "2023-06-05T10:54:53.381350Z",
     "start_time": "2023-06-05T10:54:52.529177Z"
    }
   },
   "outputs": [],
   "source": [
    "\n",
    "app = gradio.Interface(\n",
    "    fn=generator.get_lyrics,\n",
    "    inputs=\n",
    "    [\n",
    "        \"text\",\n",
    "        gradio.Slider(0.01, 3, value=0.6, label=\"temperature\", step=0.01),\n",
    "        gradio.Slider(1, 100, value=50, label=\"top_k\", step=1),\n",
    "        gradio.Slider(0.01, 3, value=0.96, label=\"top_p\", step=0.01),\n",
    "        gradio.Slider(0.01, 3, value=1.2, label=\"repetition_penalty\", step=0.01),\n",
    "    ],\n",
    "    outputs=\"text\"\n",
    ")"
   ]
  },
  {
   "attachments": {},
   "cell_type": "markdown",
   "metadata": {
    "collapsed": false
   },
   "source": [
    "Start Server"
   ]
  },
  {
   "cell_type": "code",
   "execution_count": 4,
   "metadata": {
    "collapsed": false,
    "ExecuteTime": {
     "end_time": "2023-06-05T10:54:53.419346Z",
     "start_time": "2023-06-05T10:54:53.380706Z"
    }
   },
   "outputs": [
    {
     "name": "stdout",
     "output_type": "stream",
     "text": [
      "Running on local URL:  http://127.0.0.1:7860\n",
      "\n",
      "To create a public link, set `share=True` in `launch()`.\n"
     ]
    },
    {
     "data": {
      "text/plain": "<IPython.core.display.HTML object>",
      "text/html": "<div><iframe src=\"http://127.0.0.1:7860/\" width=\"100%\" height=\"500\" allow=\"autoplay; camera; microphone; clipboard-read; clipboard-write;\" frameborder=\"0\" allowfullscreen></iframe></div>"
     },
     "metadata": {},
     "output_type": "display_data"
    },
    {
     "data": {
      "text/plain": ""
     },
     "execution_count": 4,
     "metadata": {},
     "output_type": "execute_result"
    }
   ],
   "source": [
    "app.launch()"
   ]
  }
 ],
 "metadata": {
  "kernelspec": {
   "display_name": "Python 3",
   "language": "python",
   "name": "python3"
  },
  "language_info": {
   "codemirror_mode": {
    "name": "ipython",
    "version": 3
   },
   "file_extension": ".py",
   "mimetype": "text/x-python",
   "name": "python",
   "nbconvert_exporter": "python",
   "pygments_lexer": "ipython3",
   "version": "3.10.9"
  }
 },
 "nbformat": 4,
 "nbformat_minor": 0
}
