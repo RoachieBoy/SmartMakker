{
 "cells": [
  {
   "cell_type": "code",
   "execution_count": 1,
   "metadata": {
    "collapsed": true,
    "ExecuteTime": {
     "end_time": "2023-05-16T09:15:09.830369Z",
     "start_time": "2023-05-16T09:15:09.663263Z"
    }
   },
   "outputs": [],
   "source": [
    "from data_collector.backends.collector_pipeline import run_pipeline, build_pipeline\n",
    "from data_collector.data_io.input_config_parser import load_parse_input_config\n",
    "from data_collector.data_io.data_writer import save_to_csv, save_to_json"
   ]
  },
  {
   "cell_type": "code",
   "execution_count": 2,
   "outputs": [],
   "source": [
    "# load config\n",
    "config = load_parse_input_config('./config_short_stories.json')"
   ],
   "metadata": {
    "collapsed": false,
    "ExecuteTime": {
     "end_time": "2023-05-16T09:15:09.838859Z",
     "start_time": "2023-05-16T09:15:09.834742Z"
    }
   }
  },
  {
   "cell_type": "code",
   "execution_count": 3,
   "outputs": [],
   "source": [
    "# build pipeline\n",
    "build_pipeline(config)"
   ],
   "metadata": {
    "collapsed": false,
    "ExecuteTime": {
     "end_time": "2023-05-16T09:15:09.844771Z",
     "start_time": "2023-05-16T09:15:09.839723Z"
    }
   }
  },
  {
   "cell_type": "code",
   "execution_count": 4,
   "outputs": [
    {
     "name": "stdout",
     "output_type": "stream",
     "text": [
      "400 left\n",
      "394 left\n",
      "388 left\n",
      "382 left\n",
      "376 left\n",
      "370 left\n",
      "364 left\n",
      "358 left\n",
      "352 left\n",
      "346 left\n",
      "340 left\n",
      "334 left\n",
      "328 left\n",
      "322 left\n",
      "316 left\n",
      "310 left\n",
      "304 left\n",
      "298 left\n",
      "292 left\n",
      "286 left\n",
      "280 left\n",
      "274 left\n",
      "268 left\n",
      "262 left\n",
      "256 left\n",
      "250 left\n",
      "244 left\n",
      "238 left\n",
      "232 left\n",
      "226 left\n",
      "220 left\n",
      "214 left\n",
      "208 left\n",
      "202 left\n",
      "196 left\n",
      "190 left\n",
      "184 left\n",
      "178 left\n",
      "172 left\n",
      "166 left\n",
      "160 left\n",
      "154 left\n",
      "148 left\n",
      "142 left\n",
      "136 left\n",
      "130 left\n",
      "124 left\n",
      "118 left\n",
      "112 left\n",
      "106 left\n",
      "100 left\n",
      "94 left\n",
      "88 left\n",
      "82 left\n",
      "76 left\n",
      "70 left\n",
      "64 left\n",
      "58 left\n",
      "52 left\n",
      "46 left\n",
      "40 left\n",
      "34 left\n",
      "28 left\n",
      "22 left\n",
      "16 left\n",
      "10 left\n",
      "4 left\n",
      "200 left\n",
      "150 left\n",
      "100 left\n",
      "50 left\n",
      "200 left\n",
      "150 left\n",
      "100 left\n",
      "50 left\n",
      "200 left\n",
      "150 left\n",
      "100 left\n",
      "50 left\n",
      "200 left\n",
      "150 left\n",
      "100 left\n",
      "50 left\n"
     ]
    }
   ],
   "source": [
    "# run pipeline\n",
    "data = run_pipeline()"
   ],
   "metadata": {
    "collapsed": false,
    "ExecuteTime": {
     "end_time": "2023-05-16T09:36:05.774353Z",
     "start_time": "2023-05-16T09:15:09.847392Z"
    }
   }
  },
  {
   "cell_type": "code",
   "execution_count": 5,
   "outputs": [],
   "source": [
    "# save data\n",
    "save_to_csv(data, \"./output/short_stories.csv\")\n",
    "save_to_json(data, \"./output/short_stories.json\")"
   ],
   "metadata": {
    "collapsed": false,
    "ExecuteTime": {
     "end_time": "2023-05-16T09:36:05.840862Z",
     "start_time": "2023-05-16T09:36:05.775054Z"
    }
   }
  }
 ],
 "metadata": {
  "kernelspec": {
   "display_name": "Python 3",
   "language": "python",
   "name": "python3"
  },
  "language_info": {
   "codemirror_mode": {
    "name": "ipython",
    "version": 2
   },
   "file_extension": ".py",
   "mimetype": "text/x-python",
   "name": "python",
   "nbconvert_exporter": "python",
   "pygments_lexer": "ipython2",
   "version": "2.7.6"
  }
 },
 "nbformat": 4,
 "nbformat_minor": 0
}
