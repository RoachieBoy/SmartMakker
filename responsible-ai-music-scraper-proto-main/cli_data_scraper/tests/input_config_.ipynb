{
 "cells": [
  {
   "cell_type": "code",
   "execution_count": null,
   "metadata": {
    "collapsed": true
   },
   "outputs": [],
   "source": [
    "import unittest\n",
    "\n",
    "from data_collector.data_io.run_configuration import RunConfiguration\n",
    "from data_collector.data_io.input_config_parser import load_parse_input_config"
   ]
  },
  {
   "cell_type": "code",
   "execution_count": null,
   "outputs": [],
   "source": [
    "class TestLoadParseInputConfig(unittest.TestCase):\n",
    "\n",
    "    def test_load_parse_input_config(self):\n",
    "        # Define the input JSON and expected output\n",
    "        input_json = \"./resources/config_template.json\"\n",
    "\n",
    "        expected_output = RunConfiguration(\n",
    "            {\n",
    "                \"genius\": (\n",
    "                    \"genius_smart_collector\",\n",
    "                    '{\"genius_token\": \"testToken123\", '\n",
    "                    '\"max_songs_pr_artists\": 20, '\n",
    "                    '\"sort\": \"popularity\", '\n",
    "                    '\"artists\": [\"Frans Bauer\"]}'\n",
    "                ),\n",
    "                \"short_stories\": (\n",
    "                    \"dutch_short_stories\",\n",
    "                    '{\"amount\": 20, \"base_url\": \"www.shortstoryproject.com\", \"page_url\": \"page/{}\"}'\n",
    "                ),\n",
    "                \"1001_stories\": (\n",
    "                    \"depression_1001_stories\",\n",
    "                    '{\"amount\": 20, \"genre\": \"depression\", \"base_url\": \"www.1001stories.com\", \"page_url\": \"/{}/\"}'\n",
    "                )\n",
    "            }\n",
    "        )\n",
    "\n",
    "        # Call the function with the input JSON\n",
    "        result = load_parse_input_config(input_json)\n",
    "\n",
    "        # Assert that the result matches the expected output\n",
    "        self.assertEqual(result, expected_output)\n",
    "\n",
    "\n",
    "if __name__ == '__main__':\n",
    "    unittest.main(argv=['first-arg-is-ignored'], exit=False)"
   ],
   "metadata": {
    "collapsed": false
   }
  }
 ],
 "metadata": {
  "kernelspec": {
   "display_name": "Python 3",
   "language": "python",
   "name": "python3"
  },
  "language_info": {
   "codemirror_mode": {
    "name": "ipython",
    "version": 2
   },
   "file_extension": ".py",
   "mimetype": "text/x-python",
   "name": "python",
   "nbconvert_exporter": "python",
   "pygments_lexer": "ipython2",
   "version": "2.7.6"
  }
 },
 "nbformat": 4,
 "nbformat_minor": 0
}
